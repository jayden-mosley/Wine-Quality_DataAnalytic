{
 "cells": [
  {
   "cell_type": "code",
   "execution_count": 2,
   "metadata": {},
   "outputs": [],
   "source": [
    "import pandas as pd\n",
    "import numpy as np\n",
    "import plotly.express as px"
   ]
  },
  {
   "cell_type": "code",
   "execution_count": 18,
   "metadata": {},
   "outputs": [
    {
     "data": {
      "text/html": [
       "<div>\n",
       "<style scoped>\n",
       "    .dataframe tbody tr th:only-of-type {\n",
       "        vertical-align: middle;\n",
       "    }\n",
       "\n",
       "    .dataframe tbody tr th {\n",
       "        vertical-align: top;\n",
       "    }\n",
       "\n",
       "    .dataframe thead th {\n",
       "        text-align: right;\n",
       "    }\n",
       "</style>\n",
       "<table border=\"1\" class=\"dataframe\">\n",
       "  <thead>\n",
       "    <tr style=\"text-align: right;\">\n",
       "      <th></th>\n",
       "      <th>fixed acidity</th>\n",
       "      <th>volatile acidity</th>\n",
       "      <th>citric acid</th>\n",
       "      <th>residual sugar</th>\n",
       "      <th>chlorides</th>\n",
       "      <th>free sulfur dioxide</th>\n",
       "      <th>total sulfur dioxide</th>\n",
       "      <th>density</th>\n",
       "      <th>pH</th>\n",
       "      <th>sulphates</th>\n",
       "      <th>alcohol</th>\n",
       "      <th>quality</th>\n",
       "    </tr>\n",
       "  </thead>\n",
       "  <tbody>\n",
       "    <tr>\n",
       "      <th>0</th>\n",
       "      <td>7.4</td>\n",
       "      <td>0.700</td>\n",
       "      <td>0.00</td>\n",
       "      <td>1.9</td>\n",
       "      <td>0.076</td>\n",
       "      <td>11.0</td>\n",
       "      <td>34.0</td>\n",
       "      <td>0.99780</td>\n",
       "      <td>3.51</td>\n",
       "      <td>0.56</td>\n",
       "      <td>9.4</td>\n",
       "      <td>5</td>\n",
       "    </tr>\n",
       "    <tr>\n",
       "      <th>1</th>\n",
       "      <td>7.8</td>\n",
       "      <td>0.880</td>\n",
       "      <td>0.00</td>\n",
       "      <td>2.6</td>\n",
       "      <td>0.098</td>\n",
       "      <td>25.0</td>\n",
       "      <td>67.0</td>\n",
       "      <td>0.99680</td>\n",
       "      <td>3.20</td>\n",
       "      <td>0.68</td>\n",
       "      <td>9.8</td>\n",
       "      <td>5</td>\n",
       "    </tr>\n",
       "    <tr>\n",
       "      <th>2</th>\n",
       "      <td>7.8</td>\n",
       "      <td>0.760</td>\n",
       "      <td>0.04</td>\n",
       "      <td>2.3</td>\n",
       "      <td>0.092</td>\n",
       "      <td>15.0</td>\n",
       "      <td>54.0</td>\n",
       "      <td>0.99700</td>\n",
       "      <td>3.26</td>\n",
       "      <td>0.65</td>\n",
       "      <td>9.8</td>\n",
       "      <td>5</td>\n",
       "    </tr>\n",
       "    <tr>\n",
       "      <th>3</th>\n",
       "      <td>11.2</td>\n",
       "      <td>0.280</td>\n",
       "      <td>0.56</td>\n",
       "      <td>1.9</td>\n",
       "      <td>0.075</td>\n",
       "      <td>17.0</td>\n",
       "      <td>60.0</td>\n",
       "      <td>0.99800</td>\n",
       "      <td>3.16</td>\n",
       "      <td>0.58</td>\n",
       "      <td>9.8</td>\n",
       "      <td>6</td>\n",
       "    </tr>\n",
       "    <tr>\n",
       "      <th>4</th>\n",
       "      <td>7.4</td>\n",
       "      <td>0.700</td>\n",
       "      <td>0.00</td>\n",
       "      <td>1.9</td>\n",
       "      <td>0.076</td>\n",
       "      <td>11.0</td>\n",
       "      <td>34.0</td>\n",
       "      <td>0.99780</td>\n",
       "      <td>3.51</td>\n",
       "      <td>0.56</td>\n",
       "      <td>9.4</td>\n",
       "      <td>5</td>\n",
       "    </tr>\n",
       "    <tr>\n",
       "      <th>...</th>\n",
       "      <td>...</td>\n",
       "      <td>...</td>\n",
       "      <td>...</td>\n",
       "      <td>...</td>\n",
       "      <td>...</td>\n",
       "      <td>...</td>\n",
       "      <td>...</td>\n",
       "      <td>...</td>\n",
       "      <td>...</td>\n",
       "      <td>...</td>\n",
       "      <td>...</td>\n",
       "      <td>...</td>\n",
       "    </tr>\n",
       "    <tr>\n",
       "      <th>1594</th>\n",
       "      <td>6.2</td>\n",
       "      <td>0.600</td>\n",
       "      <td>0.08</td>\n",
       "      <td>2.0</td>\n",
       "      <td>0.090</td>\n",
       "      <td>32.0</td>\n",
       "      <td>44.0</td>\n",
       "      <td>0.99490</td>\n",
       "      <td>3.45</td>\n",
       "      <td>0.58</td>\n",
       "      <td>10.5</td>\n",
       "      <td>5</td>\n",
       "    </tr>\n",
       "    <tr>\n",
       "      <th>1595</th>\n",
       "      <td>5.9</td>\n",
       "      <td>0.550</td>\n",
       "      <td>0.10</td>\n",
       "      <td>2.2</td>\n",
       "      <td>0.062</td>\n",
       "      <td>39.0</td>\n",
       "      <td>51.0</td>\n",
       "      <td>0.99512</td>\n",
       "      <td>3.52</td>\n",
       "      <td>0.76</td>\n",
       "      <td>11.2</td>\n",
       "      <td>6</td>\n",
       "    </tr>\n",
       "    <tr>\n",
       "      <th>1596</th>\n",
       "      <td>6.3</td>\n",
       "      <td>0.510</td>\n",
       "      <td>0.13</td>\n",
       "      <td>2.3</td>\n",
       "      <td>0.076</td>\n",
       "      <td>29.0</td>\n",
       "      <td>40.0</td>\n",
       "      <td>0.99574</td>\n",
       "      <td>3.42</td>\n",
       "      <td>0.75</td>\n",
       "      <td>11.0</td>\n",
       "      <td>6</td>\n",
       "    </tr>\n",
       "    <tr>\n",
       "      <th>1597</th>\n",
       "      <td>5.9</td>\n",
       "      <td>0.645</td>\n",
       "      <td>0.12</td>\n",
       "      <td>2.0</td>\n",
       "      <td>0.075</td>\n",
       "      <td>32.0</td>\n",
       "      <td>44.0</td>\n",
       "      <td>0.99547</td>\n",
       "      <td>3.57</td>\n",
       "      <td>0.71</td>\n",
       "      <td>10.2</td>\n",
       "      <td>5</td>\n",
       "    </tr>\n",
       "    <tr>\n",
       "      <th>1598</th>\n",
       "      <td>6.0</td>\n",
       "      <td>0.310</td>\n",
       "      <td>0.47</td>\n",
       "      <td>3.6</td>\n",
       "      <td>0.067</td>\n",
       "      <td>18.0</td>\n",
       "      <td>42.0</td>\n",
       "      <td>0.99549</td>\n",
       "      <td>3.39</td>\n",
       "      <td>0.66</td>\n",
       "      <td>11.0</td>\n",
       "      <td>6</td>\n",
       "    </tr>\n",
       "  </tbody>\n",
       "</table>\n",
       "<p>1599 rows × 12 columns</p>\n",
       "</div>"
      ],
      "text/plain": [
       "      fixed acidity  volatile acidity  citric acid  residual sugar  chlorides  \\\n",
       "0               7.4             0.700         0.00             1.9      0.076   \n",
       "1               7.8             0.880         0.00             2.6      0.098   \n",
       "2               7.8             0.760         0.04             2.3      0.092   \n",
       "3              11.2             0.280         0.56             1.9      0.075   \n",
       "4               7.4             0.700         0.00             1.9      0.076   \n",
       "...             ...               ...          ...             ...        ...   \n",
       "1594            6.2             0.600         0.08             2.0      0.090   \n",
       "1595            5.9             0.550         0.10             2.2      0.062   \n",
       "1596            6.3             0.510         0.13             2.3      0.076   \n",
       "1597            5.9             0.645         0.12             2.0      0.075   \n",
       "1598            6.0             0.310         0.47             3.6      0.067   \n",
       "\n",
       "      free sulfur dioxide  total sulfur dioxide  density    pH  sulphates  \\\n",
       "0                    11.0                  34.0  0.99780  3.51       0.56   \n",
       "1                    25.0                  67.0  0.99680  3.20       0.68   \n",
       "2                    15.0                  54.0  0.99700  3.26       0.65   \n",
       "3                    17.0                  60.0  0.99800  3.16       0.58   \n",
       "4                    11.0                  34.0  0.99780  3.51       0.56   \n",
       "...                   ...                   ...      ...   ...        ...   \n",
       "1594                 32.0                  44.0  0.99490  3.45       0.58   \n",
       "1595                 39.0                  51.0  0.99512  3.52       0.76   \n",
       "1596                 29.0                  40.0  0.99574  3.42       0.75   \n",
       "1597                 32.0                  44.0  0.99547  3.57       0.71   \n",
       "1598                 18.0                  42.0  0.99549  3.39       0.66   \n",
       "\n",
       "      alcohol  quality  \n",
       "0         9.4        5  \n",
       "1         9.8        5  \n",
       "2         9.8        5  \n",
       "3         9.8        6  \n",
       "4         9.4        5  \n",
       "...       ...      ...  \n",
       "1594     10.5        5  \n",
       "1595     11.2        6  \n",
       "1596     11.0        6  \n",
       "1597     10.2        5  \n",
       "1598     11.0        6  \n",
       "\n",
       "[1599 rows x 12 columns]"
      ]
     },
     "execution_count": 18,
     "metadata": {},
     "output_type": "execute_result"
    }
   ],
   "source": [
    "df = pd.read_csv('/Users/Jayde/Desktop/winequality-red.csv')\n",
    "df"
   ]
  },
  {
   "cell_type": "markdown",
   "metadata": {},
   "source": [
    "This data set covers a list of wines and their specific acids, units of alcohol and a rated quality. All factors adding a specific taste and flavour to the wine. I don't know much about wine, so we should do some research and create a visual representation for what we are ideally looking for. My boyfriend will taste the wine's that I think are the best from our findings. Date file provided by UC Irvine Machine Learning Repository https://archive.ics.uci.edu/dataset/186/wine+quality"
   ]
  },
  {
   "cell_type": "markdown",
   "metadata": {},
   "source": [
    "![Wine Infographic](file:///c%3A/Users/Jayde/Desktop/Fine%20Wine%20and.png)"
   ]
  },
  {
   "cell_type": "code",
   "execution_count": 96,
   "metadata": {},
   "outputs": [
    {
     "data": {
      "text/html": [
       "<div>\n",
       "<style scoped>\n",
       "    .dataframe tbody tr th:only-of-type {\n",
       "        vertical-align: middle;\n",
       "    }\n",
       "\n",
       "    .dataframe tbody tr th {\n",
       "        vertical-align: top;\n",
       "    }\n",
       "\n",
       "    .dataframe thead th {\n",
       "        text-align: right;\n",
       "    }\n",
       "</style>\n",
       "<table border=\"1\" class=\"dataframe\">\n",
       "  <thead>\n",
       "    <tr style=\"text-align: right;\">\n",
       "      <th></th>\n",
       "      <th>fixed acidity</th>\n",
       "      <th>volatile acidity</th>\n",
       "      <th>citric acid</th>\n",
       "      <th>residual sugar</th>\n",
       "      <th>chlorides</th>\n",
       "      <th>free sulfur dioxide</th>\n",
       "      <th>total sulfur dioxide</th>\n",
       "      <th>density</th>\n",
       "      <th>pH</th>\n",
       "      <th>sulphates</th>\n",
       "      <th>alcohol</th>\n",
       "      <th>quality</th>\n",
       "    </tr>\n",
       "  </thead>\n",
       "  <tbody>\n",
       "    <tr>\n",
       "      <th>530</th>\n",
       "      <td>9.1</td>\n",
       "      <td>0.22</td>\n",
       "      <td>0.24</td>\n",
       "      <td>2.1</td>\n",
       "      <td>0.078</td>\n",
       "      <td>1.0</td>\n",
       "      <td>28.0</td>\n",
       "      <td>0.9990</td>\n",
       "      <td>3.41</td>\n",
       "      <td>0.87</td>\n",
       "      <td>10.3</td>\n",
       "      <td>6</td>\n",
       "    </tr>\n",
       "    <tr>\n",
       "      <th>535</th>\n",
       "      <td>9.1</td>\n",
       "      <td>0.22</td>\n",
       "      <td>0.24</td>\n",
       "      <td>2.1</td>\n",
       "      <td>0.078</td>\n",
       "      <td>1.0</td>\n",
       "      <td>28.0</td>\n",
       "      <td>0.9990</td>\n",
       "      <td>3.41</td>\n",
       "      <td>0.87</td>\n",
       "      <td>10.3</td>\n",
       "      <td>6</td>\n",
       "    </tr>\n",
       "    <tr>\n",
       "      <th>773</th>\n",
       "      <td>7.9</td>\n",
       "      <td>0.40</td>\n",
       "      <td>0.29</td>\n",
       "      <td>1.8</td>\n",
       "      <td>0.157</td>\n",
       "      <td>1.0</td>\n",
       "      <td>44.0</td>\n",
       "      <td>0.9973</td>\n",
       "      <td>3.30</td>\n",
       "      <td>0.92</td>\n",
       "      <td>9.5</td>\n",
       "      <td>6</td>\n",
       "    </tr>\n",
       "  </tbody>\n",
       "</table>\n",
       "</div>"
      ],
      "text/plain": [
       "     fixed acidity  volatile acidity  citric acid  residual sugar  chlorides  \\\n",
       "530            9.1              0.22         0.24             2.1      0.078   \n",
       "535            9.1              0.22         0.24             2.1      0.078   \n",
       "773            7.9              0.40         0.29             1.8      0.157   \n",
       "\n",
       "     free sulfur dioxide  total sulfur dioxide  density    pH  sulphates  \\\n",
       "530                  1.0                  28.0   0.9990  3.41       0.87   \n",
       "535                  1.0                  28.0   0.9990  3.41       0.87   \n",
       "773                  1.0                  44.0   0.9973  3.30       0.92   \n",
       "\n",
       "     alcohol  quality  \n",
       "530     10.3        6  \n",
       "535     10.3        6  \n",
       "773      9.5        6  "
      ]
     },
     "execution_count": 96,
     "metadata": {},
     "output_type": "execute_result"
    }
   ],
   "source": [
    "min_total = df['free sulfur dioxide'].min()\n",
    "df[df['free sulfur dioxide'] == min_total]"
   ]
  },
  {
   "cell_type": "markdown",
   "metadata": {},
   "source": [
    "Some people can be allergic to yeast in wine, which usually comes from the 'Free Sulphur Dioxide' column in our original data set. This variable addresses Microbrial Growth in wines, thus the lower this is, the less likely it is to have a lot of yeast in. In addition, less likely to have an allergic reaction."
   ]
  },
  {
   "cell_type": "code",
   "execution_count": 4,
   "metadata": {},
   "outputs": [
    {
     "data": {
      "text/plain": [
       "fixed acidity           10.6000\n",
       "volatile acidity         0.2800\n",
       "citric acid              0.3900\n",
       "residual sugar          15.5000\n",
       "chlorides                0.0690\n",
       "free sulfur dioxide      6.0000\n",
       "total sulfur dioxide    23.0000\n",
       "density                  1.0026\n",
       "pH                       3.1200\n",
       "sulphates                0.6600\n",
       "alcohol                  9.2000\n",
       "quality                  5.0000\n",
       "Name: 480, dtype: float64"
      ]
     },
     "execution_count": 4,
     "metadata": {},
     "output_type": "execute_result"
    }
   ],
   "source": [
    "highest_sugar_entry = df.loc[df['residual sugar'].idxmax()]\n",
    "highest_sugar_entry"
   ]
  },
  {
   "cell_type": "markdown",
   "metadata": {},
   "source": [
    "Some people do not like incredibly sweet wines, in the above cell, we are looking for the entry with the highest amount of sugars in which some people may want to avoid."
   ]
  },
  {
   "cell_type": "code",
   "execution_count": 35,
   "metadata": {},
   "outputs": [
    {
     "data": {
      "text/html": [
       "<div>\n",
       "<style scoped>\n",
       "    .dataframe tbody tr th:only-of-type {\n",
       "        vertical-align: middle;\n",
       "    }\n",
       "\n",
       "    .dataframe tbody tr th {\n",
       "        vertical-align: top;\n",
       "    }\n",
       "\n",
       "    .dataframe thead th {\n",
       "        text-align: right;\n",
       "    }\n",
       "</style>\n",
       "<table border=\"1\" class=\"dataframe\">\n",
       "  <thead>\n",
       "    <tr style=\"text-align: right;\">\n",
       "      <th></th>\n",
       "      <th>fixed acidity</th>\n",
       "      <th>volatile acidity</th>\n",
       "      <th>citric acid</th>\n",
       "      <th>residual sugar</th>\n",
       "      <th>chlorides</th>\n",
       "      <th>free sulfur dioxide</th>\n",
       "      <th>total sulfur dioxide</th>\n",
       "      <th>density</th>\n",
       "      <th>pH</th>\n",
       "      <th>sulphates</th>\n",
       "      <th>alcohol</th>\n",
       "      <th>quality</th>\n",
       "    </tr>\n",
       "  </thead>\n",
       "  <tbody>\n",
       "    <tr>\n",
       "      <th>1</th>\n",
       "      <td>7.8</td>\n",
       "      <td>0.880</td>\n",
       "      <td>0.00</td>\n",
       "      <td>2.6</td>\n",
       "      <td>0.098</td>\n",
       "      <td>25.0</td>\n",
       "      <td>67.0</td>\n",
       "      <td>0.99680</td>\n",
       "      <td>3.20</td>\n",
       "      <td>0.68</td>\n",
       "      <td>9.8</td>\n",
       "      <td>5</td>\n",
       "    </tr>\n",
       "    <tr>\n",
       "      <th>9</th>\n",
       "      <td>7.5</td>\n",
       "      <td>0.500</td>\n",
       "      <td>0.36</td>\n",
       "      <td>6.1</td>\n",
       "      <td>0.071</td>\n",
       "      <td>17.0</td>\n",
       "      <td>102.0</td>\n",
       "      <td>0.99780</td>\n",
       "      <td>3.35</td>\n",
       "      <td>0.80</td>\n",
       "      <td>10.5</td>\n",
       "      <td>5</td>\n",
       "    </tr>\n",
       "    <tr>\n",
       "      <th>10</th>\n",
       "      <td>6.7</td>\n",
       "      <td>0.580</td>\n",
       "      <td>0.08</td>\n",
       "      <td>1.8</td>\n",
       "      <td>0.097</td>\n",
       "      <td>15.0</td>\n",
       "      <td>65.0</td>\n",
       "      <td>0.99590</td>\n",
       "      <td>3.28</td>\n",
       "      <td>0.54</td>\n",
       "      <td>9.2</td>\n",
       "      <td>5</td>\n",
       "    </tr>\n",
       "    <tr>\n",
       "      <th>11</th>\n",
       "      <td>7.5</td>\n",
       "      <td>0.500</td>\n",
       "      <td>0.36</td>\n",
       "      <td>6.1</td>\n",
       "      <td>0.071</td>\n",
       "      <td>17.0</td>\n",
       "      <td>102.0</td>\n",
       "      <td>0.99780</td>\n",
       "      <td>3.35</td>\n",
       "      <td>0.80</td>\n",
       "      <td>10.5</td>\n",
       "      <td>5</td>\n",
       "    </tr>\n",
       "    <tr>\n",
       "      <th>14</th>\n",
       "      <td>8.9</td>\n",
       "      <td>0.620</td>\n",
       "      <td>0.18</td>\n",
       "      <td>3.8</td>\n",
       "      <td>0.176</td>\n",
       "      <td>52.0</td>\n",
       "      <td>145.0</td>\n",
       "      <td>0.99860</td>\n",
       "      <td>3.16</td>\n",
       "      <td>0.88</td>\n",
       "      <td>9.2</td>\n",
       "      <td>5</td>\n",
       "    </tr>\n",
       "    <tr>\n",
       "      <th>...</th>\n",
       "      <td>...</td>\n",
       "      <td>...</td>\n",
       "      <td>...</td>\n",
       "      <td>...</td>\n",
       "      <td>...</td>\n",
       "      <td>...</td>\n",
       "      <td>...</td>\n",
       "      <td>...</td>\n",
       "      <td>...</td>\n",
       "      <td>...</td>\n",
       "      <td>...</td>\n",
       "      <td>...</td>\n",
       "    </tr>\n",
       "    <tr>\n",
       "      <th>1572</th>\n",
       "      <td>7.3</td>\n",
       "      <td>0.690</td>\n",
       "      <td>0.32</td>\n",
       "      <td>2.2</td>\n",
       "      <td>0.069</td>\n",
       "      <td>35.0</td>\n",
       "      <td>104.0</td>\n",
       "      <td>0.99632</td>\n",
       "      <td>3.33</td>\n",
       "      <td>0.51</td>\n",
       "      <td>9.5</td>\n",
       "      <td>5</td>\n",
       "    </tr>\n",
       "    <tr>\n",
       "      <th>1574</th>\n",
       "      <td>5.6</td>\n",
       "      <td>0.310</td>\n",
       "      <td>0.78</td>\n",
       "      <td>13.9</td>\n",
       "      <td>0.074</td>\n",
       "      <td>23.0</td>\n",
       "      <td>92.0</td>\n",
       "      <td>0.99677</td>\n",
       "      <td>3.39</td>\n",
       "      <td>0.48</td>\n",
       "      <td>10.5</td>\n",
       "      <td>6</td>\n",
       "    </tr>\n",
       "    <tr>\n",
       "      <th>1583</th>\n",
       "      <td>6.2</td>\n",
       "      <td>0.460</td>\n",
       "      <td>0.29</td>\n",
       "      <td>2.1</td>\n",
       "      <td>0.074</td>\n",
       "      <td>32.0</td>\n",
       "      <td>98.0</td>\n",
       "      <td>0.99578</td>\n",
       "      <td>3.33</td>\n",
       "      <td>0.62</td>\n",
       "      <td>9.8</td>\n",
       "      <td>5</td>\n",
       "    </tr>\n",
       "    <tr>\n",
       "      <th>1588</th>\n",
       "      <td>7.2</td>\n",
       "      <td>0.660</td>\n",
       "      <td>0.33</td>\n",
       "      <td>2.5</td>\n",
       "      <td>0.068</td>\n",
       "      <td>34.0</td>\n",
       "      <td>102.0</td>\n",
       "      <td>0.99414</td>\n",
       "      <td>3.27</td>\n",
       "      <td>0.78</td>\n",
       "      <td>12.8</td>\n",
       "      <td>6</td>\n",
       "    </tr>\n",
       "    <tr>\n",
       "      <th>1589</th>\n",
       "      <td>6.6</td>\n",
       "      <td>0.725</td>\n",
       "      <td>0.20</td>\n",
       "      <td>7.8</td>\n",
       "      <td>0.073</td>\n",
       "      <td>29.0</td>\n",
       "      <td>79.0</td>\n",
       "      <td>0.99770</td>\n",
       "      <td>3.29</td>\n",
       "      <td>0.54</td>\n",
       "      <td>9.2</td>\n",
       "      <td>5</td>\n",
       "    </tr>\n",
       "  </tbody>\n",
       "</table>\n",
       "<p>416 rows × 12 columns</p>\n",
       "</div>"
      ],
      "text/plain": [
       "      fixed acidity  volatile acidity  citric acid  residual sugar  chlorides  \\\n",
       "1               7.8             0.880         0.00             2.6      0.098   \n",
       "9               7.5             0.500         0.36             6.1      0.071   \n",
       "10              6.7             0.580         0.08             1.8      0.097   \n",
       "11              7.5             0.500         0.36             6.1      0.071   \n",
       "14              8.9             0.620         0.18             3.8      0.176   \n",
       "...             ...               ...          ...             ...        ...   \n",
       "1572            7.3             0.690         0.32             2.2      0.069   \n",
       "1574            5.6             0.310         0.78            13.9      0.074   \n",
       "1583            6.2             0.460         0.29             2.1      0.074   \n",
       "1588            7.2             0.660         0.33             2.5      0.068   \n",
       "1589            6.6             0.725         0.20             7.8      0.073   \n",
       "\n",
       "      free sulfur dioxide  total sulfur dioxide  density    pH  sulphates  \\\n",
       "1                    25.0                  67.0  0.99680  3.20       0.68   \n",
       "9                    17.0                 102.0  0.99780  3.35       0.80   \n",
       "10                   15.0                  65.0  0.99590  3.28       0.54   \n",
       "11                   17.0                 102.0  0.99780  3.35       0.80   \n",
       "14                   52.0                 145.0  0.99860  3.16       0.88   \n",
       "...                   ...                   ...      ...   ...        ...   \n",
       "1572                 35.0                 104.0  0.99632  3.33       0.51   \n",
       "1574                 23.0                  92.0  0.99677  3.39       0.48   \n",
       "1583                 32.0                  98.0  0.99578  3.33       0.62   \n",
       "1588                 34.0                 102.0  0.99414  3.27       0.78   \n",
       "1589                 29.0                  79.0  0.99770  3.29       0.54   \n",
       "\n",
       "      alcohol  quality  \n",
       "1         9.8        5  \n",
       "9        10.5        5  \n",
       "10        9.2        5  \n",
       "11       10.5        5  \n",
       "14        9.2        5  \n",
       "...       ...      ...  \n",
       "1572      9.5        5  \n",
       "1574     10.5        6  \n",
       "1583      9.8        5  \n",
       "1588     12.8        6  \n",
       "1589      9.2        5  \n",
       "\n",
       "[416 rows x 12 columns]"
      ]
     },
     "execution_count": 35,
     "metadata": {},
     "output_type": "execute_result"
    }
   ],
   "source": [
    "wines = df[df['quality'] > 5]\n",
    "wines = df[df['alcohol'] > 10.5]\n",
    "wines = df[df['fixed acidity'] > 7.4]\n",
    "wines = df[df['total sulfur dioxide'] > 60]\n",
    "wines"
   ]
  },
  {
   "cell_type": "markdown",
   "metadata": {},
   "source": [
    "In our new data set (wines) we are going to do some cleaning purely for easier reading of columns we will actually be viewing, as an example, we won't be looking at chlorides which are a taste and balancing addition to wines. This is covered already through several other columns such as sulphur dioxide and residual sugar."
   ]
  },
  {
   "cell_type": "code",
   "execution_count": 41,
   "metadata": {},
   "outputs": [
    {
     "data": {
      "text/html": [
       "<div>\n",
       "<style scoped>\n",
       "    .dataframe tbody tr th:only-of-type {\n",
       "        vertical-align: middle;\n",
       "    }\n",
       "\n",
       "    .dataframe tbody tr th {\n",
       "        vertical-align: top;\n",
       "    }\n",
       "\n",
       "    .dataframe thead th {\n",
       "        text-align: right;\n",
       "    }\n",
       "</style>\n",
       "<table border=\"1\" class=\"dataframe\">\n",
       "  <thead>\n",
       "    <tr style=\"text-align: right;\">\n",
       "      <th></th>\n",
       "      <th>fixed acidity</th>\n",
       "      <th>citric acid</th>\n",
       "      <th>residual sugar</th>\n",
       "      <th>total sulfur dioxide</th>\n",
       "      <th>density</th>\n",
       "      <th>pH</th>\n",
       "      <th>alcohol</th>\n",
       "      <th>quality</th>\n",
       "    </tr>\n",
       "  </thead>\n",
       "  <tbody>\n",
       "    <tr>\n",
       "      <th>1</th>\n",
       "      <td>7.8</td>\n",
       "      <td>0.00</td>\n",
       "      <td>2.6</td>\n",
       "      <td>67.0</td>\n",
       "      <td>0.99680</td>\n",
       "      <td>3.20</td>\n",
       "      <td>9.8</td>\n",
       "      <td>5</td>\n",
       "    </tr>\n",
       "    <tr>\n",
       "      <th>9</th>\n",
       "      <td>7.5</td>\n",
       "      <td>0.36</td>\n",
       "      <td>6.1</td>\n",
       "      <td>102.0</td>\n",
       "      <td>0.99780</td>\n",
       "      <td>3.35</td>\n",
       "      <td>10.5</td>\n",
       "      <td>5</td>\n",
       "    </tr>\n",
       "    <tr>\n",
       "      <th>10</th>\n",
       "      <td>6.7</td>\n",
       "      <td>0.08</td>\n",
       "      <td>1.8</td>\n",
       "      <td>65.0</td>\n",
       "      <td>0.99590</td>\n",
       "      <td>3.28</td>\n",
       "      <td>9.2</td>\n",
       "      <td>5</td>\n",
       "    </tr>\n",
       "    <tr>\n",
       "      <th>11</th>\n",
       "      <td>7.5</td>\n",
       "      <td>0.36</td>\n",
       "      <td>6.1</td>\n",
       "      <td>102.0</td>\n",
       "      <td>0.99780</td>\n",
       "      <td>3.35</td>\n",
       "      <td>10.5</td>\n",
       "      <td>5</td>\n",
       "    </tr>\n",
       "    <tr>\n",
       "      <th>14</th>\n",
       "      <td>8.9</td>\n",
       "      <td>0.18</td>\n",
       "      <td>3.8</td>\n",
       "      <td>145.0</td>\n",
       "      <td>0.99860</td>\n",
       "      <td>3.16</td>\n",
       "      <td>9.2</td>\n",
       "      <td>5</td>\n",
       "    </tr>\n",
       "    <tr>\n",
       "      <th>...</th>\n",
       "      <td>...</td>\n",
       "      <td>...</td>\n",
       "      <td>...</td>\n",
       "      <td>...</td>\n",
       "      <td>...</td>\n",
       "      <td>...</td>\n",
       "      <td>...</td>\n",
       "      <td>...</td>\n",
       "    </tr>\n",
       "    <tr>\n",
       "      <th>1572</th>\n",
       "      <td>7.3</td>\n",
       "      <td>0.32</td>\n",
       "      <td>2.2</td>\n",
       "      <td>104.0</td>\n",
       "      <td>0.99632</td>\n",
       "      <td>3.33</td>\n",
       "      <td>9.5</td>\n",
       "      <td>5</td>\n",
       "    </tr>\n",
       "    <tr>\n",
       "      <th>1574</th>\n",
       "      <td>5.6</td>\n",
       "      <td>0.78</td>\n",
       "      <td>13.9</td>\n",
       "      <td>92.0</td>\n",
       "      <td>0.99677</td>\n",
       "      <td>3.39</td>\n",
       "      <td>10.5</td>\n",
       "      <td>6</td>\n",
       "    </tr>\n",
       "    <tr>\n",
       "      <th>1583</th>\n",
       "      <td>6.2</td>\n",
       "      <td>0.29</td>\n",
       "      <td>2.1</td>\n",
       "      <td>98.0</td>\n",
       "      <td>0.99578</td>\n",
       "      <td>3.33</td>\n",
       "      <td>9.8</td>\n",
       "      <td>5</td>\n",
       "    </tr>\n",
       "    <tr>\n",
       "      <th>1588</th>\n",
       "      <td>7.2</td>\n",
       "      <td>0.33</td>\n",
       "      <td>2.5</td>\n",
       "      <td>102.0</td>\n",
       "      <td>0.99414</td>\n",
       "      <td>3.27</td>\n",
       "      <td>12.8</td>\n",
       "      <td>6</td>\n",
       "    </tr>\n",
       "    <tr>\n",
       "      <th>1589</th>\n",
       "      <td>6.6</td>\n",
       "      <td>0.20</td>\n",
       "      <td>7.8</td>\n",
       "      <td>79.0</td>\n",
       "      <td>0.99770</td>\n",
       "      <td>3.29</td>\n",
       "      <td>9.2</td>\n",
       "      <td>5</td>\n",
       "    </tr>\n",
       "  </tbody>\n",
       "</table>\n",
       "<p>416 rows × 8 columns</p>\n",
       "</div>"
      ],
      "text/plain": [
       "      fixed acidity  citric acid  residual sugar  total sulfur dioxide  \\\n",
       "1               7.8         0.00             2.6                  67.0   \n",
       "9               7.5         0.36             6.1                 102.0   \n",
       "10              6.7         0.08             1.8                  65.0   \n",
       "11              7.5         0.36             6.1                 102.0   \n",
       "14              8.9         0.18             3.8                 145.0   \n",
       "...             ...          ...             ...                   ...   \n",
       "1572            7.3         0.32             2.2                 104.0   \n",
       "1574            5.6         0.78            13.9                  92.0   \n",
       "1583            6.2         0.29             2.1                  98.0   \n",
       "1588            7.2         0.33             2.5                 102.0   \n",
       "1589            6.6         0.20             7.8                  79.0   \n",
       "\n",
       "      density    pH  alcohol  quality  \n",
       "1     0.99680  3.20      9.8        5  \n",
       "9     0.99780  3.35     10.5        5  \n",
       "10    0.99590  3.28      9.2        5  \n",
       "11    0.99780  3.35     10.5        5  \n",
       "14    0.99860  3.16      9.2        5  \n",
       "...       ...   ...      ...      ...  \n",
       "1572  0.99632  3.33      9.5        5  \n",
       "1574  0.99677  3.39     10.5        6  \n",
       "1583  0.99578  3.33      9.8        5  \n",
       "1588  0.99414  3.27     12.8        6  \n",
       "1589  0.99770  3.29      9.2        5  \n",
       "\n",
       "[416 rows x 8 columns]"
      ]
     },
     "execution_count": 41,
     "metadata": {},
     "output_type": "execute_result"
    }
   ],
   "source": [
    "cols_to_drop = ['volatile acidity', 'chlorides', 'free sulfur dioxide', 'sulphates']\n",
    "wines = wines.drop(columns=[col for col in cols_to_drop if col in wines.columns])\n",
    "wines"
   ]
  },
  {
   "cell_type": "code",
   "execution_count": 40,
   "metadata": {},
   "outputs": [
    {
     "name": "stdout",
     "output_type": "stream",
     "text": [
      "Index(['fixed acidity', 'citric acid', 'residual sugar',\n",
      "       'total sulfur dioxide', 'density', 'pH', 'alcohol', 'quality'],\n",
      "      dtype='object')\n"
     ]
    }
   ],
   "source": [
    "print(wines.columns)"
   ]
  },
  {
   "cell_type": "code",
   "execution_count": 42,
   "metadata": {},
   "outputs": [
    {
     "data": {
      "text/plain": [
       "fixed acidity           float64\n",
       "citric acid             float64\n",
       "residual sugar          float64\n",
       "total sulfur dioxide    float64\n",
       "density                 float64\n",
       "pH                      float64\n",
       "alcohol                 float64\n",
       "quality                   int64\n",
       "dtype: object"
      ]
     },
     "execution_count": 42,
     "metadata": {},
     "output_type": "execute_result"
    }
   ],
   "source": [
    "wines.dtypes"
   ]
  },
  {
   "cell_type": "code",
   "execution_count": 58,
   "metadata": {},
   "outputs": [
    {
     "data": {
      "text/plain": [
       "(416, 8)"
      ]
     },
     "execution_count": 58,
     "metadata": {},
     "output_type": "execute_result"
    }
   ],
   "source": [
    "wines.shape"
   ]
  },
  {
   "cell_type": "markdown",
   "metadata": {},
   "source": [
    "Some technical errors occured so I examined dtypes, shape of data frame and columns to be clear of any errors."
   ]
  },
  {
   "cell_type": "code",
   "execution_count": 66,
   "metadata": {},
   "outputs": [
    {
     "data": {
      "application/vnd.plotly.v1+json": {
       "config": {
        "plotlyServerURL": "https://plot.ly"
       },
       "data": [
        {
         "bingroup": "x",
         "hovertemplate": "Alcohol=%{x}<br>count=%{y}<extra></extra>",
         "legendgroup": "",
         "marker": {
          "color": "#c8a2c8",
          "pattern": {
           "shape": ""
          }
         },
         "name": "",
         "nbinsx": 20,
         "orientation": "v",
         "showlegend": false,
         "type": "histogram",
         "x": {
          "bdata": "AAAAAAAAJUAAAAAAAAAqQGZmZmZmZihAzczMzMzMKUCamZmZmZknQJqZmZmZmSVAAAAAAAAAKEAAAAAAAAAoQGZmZmZmZiVAzczMzMzMKUBmZmZmZmYnQGZmZmZmZidAAAAAAAAAJkBmZmZmZmYkQJqZmZmZmShAmpmZmZmZKECamZmZmZknQJqZmZmZmSdAzczMzMzMKUAzMzMzMzMrQAAAAAAAACxANCIiIiIiK0AzMzMzMzMrQA==",
          "dtype": "f8"
         },
         "xaxis": "x",
         "yaxis": "y"
        }
       ],
       "layout": {
        "barmode": "relative",
        "legend": {
         "tracegroupgap": 0
        },
        "paper_bgcolor": "white",
        "plot_bgcolor": "white",
        "template": {
         "data": {
          "bar": [
           {
            "error_x": {
             "color": "#2a3f5f"
            },
            "error_y": {
             "color": "#2a3f5f"
            },
            "marker": {
             "line": {
              "color": "#E5ECF6",
              "width": 0.5
             },
             "pattern": {
              "fillmode": "overlay",
              "size": 10,
              "solidity": 0.2
             }
            },
            "type": "bar"
           }
          ],
          "barpolar": [
           {
            "marker": {
             "line": {
              "color": "#E5ECF6",
              "width": 0.5
             },
             "pattern": {
              "fillmode": "overlay",
              "size": 10,
              "solidity": 0.2
             }
            },
            "type": "barpolar"
           }
          ],
          "carpet": [
           {
            "aaxis": {
             "endlinecolor": "#2a3f5f",
             "gridcolor": "white",
             "linecolor": "white",
             "minorgridcolor": "white",
             "startlinecolor": "#2a3f5f"
            },
            "baxis": {
             "endlinecolor": "#2a3f5f",
             "gridcolor": "white",
             "linecolor": "white",
             "minorgridcolor": "white",
             "startlinecolor": "#2a3f5f"
            },
            "type": "carpet"
           }
          ],
          "choropleth": [
           {
            "colorbar": {
             "outlinewidth": 0,
             "ticks": ""
            },
            "type": "choropleth"
           }
          ],
          "contour": [
           {
            "colorbar": {
             "outlinewidth": 0,
             "ticks": ""
            },
            "colorscale": [
             [
              0,
              "#0d0887"
             ],
             [
              0.1111111111111111,
              "#46039f"
             ],
             [
              0.2222222222222222,
              "#7201a8"
             ],
             [
              0.3333333333333333,
              "#9c179e"
             ],
             [
              0.4444444444444444,
              "#bd3786"
             ],
             [
              0.5555555555555556,
              "#d8576b"
             ],
             [
              0.6666666666666666,
              "#ed7953"
             ],
             [
              0.7777777777777778,
              "#fb9f3a"
             ],
             [
              0.8888888888888888,
              "#fdca26"
             ],
             [
              1,
              "#f0f921"
             ]
            ],
            "type": "contour"
           }
          ],
          "contourcarpet": [
           {
            "colorbar": {
             "outlinewidth": 0,
             "ticks": ""
            },
            "type": "contourcarpet"
           }
          ],
          "heatmap": [
           {
            "colorbar": {
             "outlinewidth": 0,
             "ticks": ""
            },
            "colorscale": [
             [
              0,
              "#0d0887"
             ],
             [
              0.1111111111111111,
              "#46039f"
             ],
             [
              0.2222222222222222,
              "#7201a8"
             ],
             [
              0.3333333333333333,
              "#9c179e"
             ],
             [
              0.4444444444444444,
              "#bd3786"
             ],
             [
              0.5555555555555556,
              "#d8576b"
             ],
             [
              0.6666666666666666,
              "#ed7953"
             ],
             [
              0.7777777777777778,
              "#fb9f3a"
             ],
             [
              0.8888888888888888,
              "#fdca26"
             ],
             [
              1,
              "#f0f921"
             ]
            ],
            "type": "heatmap"
           }
          ],
          "histogram": [
           {
            "marker": {
             "pattern": {
              "fillmode": "overlay",
              "size": 10,
              "solidity": 0.2
             }
            },
            "type": "histogram"
           }
          ],
          "histogram2d": [
           {
            "colorbar": {
             "outlinewidth": 0,
             "ticks": ""
            },
            "colorscale": [
             [
              0,
              "#0d0887"
             ],
             [
              0.1111111111111111,
              "#46039f"
             ],
             [
              0.2222222222222222,
              "#7201a8"
             ],
             [
              0.3333333333333333,
              "#9c179e"
             ],
             [
              0.4444444444444444,
              "#bd3786"
             ],
             [
              0.5555555555555556,
              "#d8576b"
             ],
             [
              0.6666666666666666,
              "#ed7953"
             ],
             [
              0.7777777777777778,
              "#fb9f3a"
             ],
             [
              0.8888888888888888,
              "#fdca26"
             ],
             [
              1,
              "#f0f921"
             ]
            ],
            "type": "histogram2d"
           }
          ],
          "histogram2dcontour": [
           {
            "colorbar": {
             "outlinewidth": 0,
             "ticks": ""
            },
            "colorscale": [
             [
              0,
              "#0d0887"
             ],
             [
              0.1111111111111111,
              "#46039f"
             ],
             [
              0.2222222222222222,
              "#7201a8"
             ],
             [
              0.3333333333333333,
              "#9c179e"
             ],
             [
              0.4444444444444444,
              "#bd3786"
             ],
             [
              0.5555555555555556,
              "#d8576b"
             ],
             [
              0.6666666666666666,
              "#ed7953"
             ],
             [
              0.7777777777777778,
              "#fb9f3a"
             ],
             [
              0.8888888888888888,
              "#fdca26"
             ],
             [
              1,
              "#f0f921"
             ]
            ],
            "type": "histogram2dcontour"
           }
          ],
          "mesh3d": [
           {
            "colorbar": {
             "outlinewidth": 0,
             "ticks": ""
            },
            "type": "mesh3d"
           }
          ],
          "parcoords": [
           {
            "line": {
             "colorbar": {
              "outlinewidth": 0,
              "ticks": ""
             }
            },
            "type": "parcoords"
           }
          ],
          "pie": [
           {
            "automargin": true,
            "type": "pie"
           }
          ],
          "scatter": [
           {
            "fillpattern": {
             "fillmode": "overlay",
             "size": 10,
             "solidity": 0.2
            },
            "type": "scatter"
           }
          ],
          "scatter3d": [
           {
            "line": {
             "colorbar": {
              "outlinewidth": 0,
              "ticks": ""
             }
            },
            "marker": {
             "colorbar": {
              "outlinewidth": 0,
              "ticks": ""
             }
            },
            "type": "scatter3d"
           }
          ],
          "scattercarpet": [
           {
            "marker": {
             "colorbar": {
              "outlinewidth": 0,
              "ticks": ""
             }
            },
            "type": "scattercarpet"
           }
          ],
          "scattergeo": [
           {
            "marker": {
             "colorbar": {
              "outlinewidth": 0,
              "ticks": ""
             }
            },
            "type": "scattergeo"
           }
          ],
          "scattergl": [
           {
            "marker": {
             "colorbar": {
              "outlinewidth": 0,
              "ticks": ""
             }
            },
            "type": "scattergl"
           }
          ],
          "scattermap": [
           {
            "marker": {
             "colorbar": {
              "outlinewidth": 0,
              "ticks": ""
             }
            },
            "type": "scattermap"
           }
          ],
          "scattermapbox": [
           {
            "marker": {
             "colorbar": {
              "outlinewidth": 0,
              "ticks": ""
             }
            },
            "type": "scattermapbox"
           }
          ],
          "scatterpolar": [
           {
            "marker": {
             "colorbar": {
              "outlinewidth": 0,
              "ticks": ""
             }
            },
            "type": "scatterpolar"
           }
          ],
          "scatterpolargl": [
           {
            "marker": {
             "colorbar": {
              "outlinewidth": 0,
              "ticks": ""
             }
            },
            "type": "scatterpolargl"
           }
          ],
          "scatterternary": [
           {
            "marker": {
             "colorbar": {
              "outlinewidth": 0,
              "ticks": ""
             }
            },
            "type": "scatterternary"
           }
          ],
          "surface": [
           {
            "colorbar": {
             "outlinewidth": 0,
             "ticks": ""
            },
            "colorscale": [
             [
              0,
              "#0d0887"
             ],
             [
              0.1111111111111111,
              "#46039f"
             ],
             [
              0.2222222222222222,
              "#7201a8"
             ],
             [
              0.3333333333333333,
              "#9c179e"
             ],
             [
              0.4444444444444444,
              "#bd3786"
             ],
             [
              0.5555555555555556,
              "#d8576b"
             ],
             [
              0.6666666666666666,
              "#ed7953"
             ],
             [
              0.7777777777777778,
              "#fb9f3a"
             ],
             [
              0.8888888888888888,
              "#fdca26"
             ],
             [
              1,
              "#f0f921"
             ]
            ],
            "type": "surface"
           }
          ],
          "table": [
           {
            "cells": {
             "fill": {
              "color": "#EBF0F8"
             },
             "line": {
              "color": "white"
             }
            },
            "header": {
             "fill": {
              "color": "#C8D4E3"
             },
             "line": {
              "color": "white"
             }
            },
            "type": "table"
           }
          ]
         },
         "layout": {
          "annotationdefaults": {
           "arrowcolor": "#2a3f5f",
           "arrowhead": 0,
           "arrowwidth": 1
          },
          "autotypenumbers": "strict",
          "coloraxis": {
           "colorbar": {
            "outlinewidth": 0,
            "ticks": ""
           }
          },
          "colorscale": {
           "diverging": [
            [
             0,
             "#8e0152"
            ],
            [
             0.1,
             "#c51b7d"
            ],
            [
             0.2,
             "#de77ae"
            ],
            [
             0.3,
             "#f1b6da"
            ],
            [
             0.4,
             "#fde0ef"
            ],
            [
             0.5,
             "#f7f7f7"
            ],
            [
             0.6,
             "#e6f5d0"
            ],
            [
             0.7,
             "#b8e186"
            ],
            [
             0.8,
             "#7fbc41"
            ],
            [
             0.9,
             "#4d9221"
            ],
            [
             1,
             "#276419"
            ]
           ],
           "sequential": [
            [
             0,
             "#0d0887"
            ],
            [
             0.1111111111111111,
             "#46039f"
            ],
            [
             0.2222222222222222,
             "#7201a8"
            ],
            [
             0.3333333333333333,
             "#9c179e"
            ],
            [
             0.4444444444444444,
             "#bd3786"
            ],
            [
             0.5555555555555556,
             "#d8576b"
            ],
            [
             0.6666666666666666,
             "#ed7953"
            ],
            [
             0.7777777777777778,
             "#fb9f3a"
            ],
            [
             0.8888888888888888,
             "#fdca26"
            ],
            [
             1,
             "#f0f921"
            ]
           ],
           "sequentialminus": [
            [
             0,
             "#0d0887"
            ],
            [
             0.1111111111111111,
             "#46039f"
            ],
            [
             0.2222222222222222,
             "#7201a8"
            ],
            [
             0.3333333333333333,
             "#9c179e"
            ],
            [
             0.4444444444444444,
             "#bd3786"
            ],
            [
             0.5555555555555556,
             "#d8576b"
            ],
            [
             0.6666666666666666,
             "#ed7953"
            ],
            [
             0.7777777777777778,
             "#fb9f3a"
            ],
            [
             0.8888888888888888,
             "#fdca26"
            ],
            [
             1,
             "#f0f921"
            ]
           ]
          },
          "colorway": [
           "#636efa",
           "#EF553B",
           "#00cc96",
           "#ab63fa",
           "#FFA15A",
           "#19d3f3",
           "#FF6692",
           "#B6E880",
           "#FF97FF",
           "#FECB52"
          ],
          "font": {
           "color": "#2a3f5f"
          },
          "geo": {
           "bgcolor": "white",
           "lakecolor": "white",
           "landcolor": "#E5ECF6",
           "showlakes": true,
           "showland": true,
           "subunitcolor": "white"
          },
          "hoverlabel": {
           "align": "left"
          },
          "hovermode": "closest",
          "mapbox": {
           "style": "light"
          },
          "paper_bgcolor": "white",
          "plot_bgcolor": "#E5ECF6",
          "polar": {
           "angularaxis": {
            "gridcolor": "white",
            "linecolor": "white",
            "ticks": ""
           },
           "bgcolor": "#E5ECF6",
           "radialaxis": {
            "gridcolor": "white",
            "linecolor": "white",
            "ticks": ""
           }
          },
          "scene": {
           "xaxis": {
            "backgroundcolor": "#E5ECF6",
            "gridcolor": "white",
            "gridwidth": 2,
            "linecolor": "white",
            "showbackground": true,
            "ticks": "",
            "zerolinecolor": "white"
           },
           "yaxis": {
            "backgroundcolor": "#E5ECF6",
            "gridcolor": "white",
            "gridwidth": 2,
            "linecolor": "white",
            "showbackground": true,
            "ticks": "",
            "zerolinecolor": "white"
           },
           "zaxis": {
            "backgroundcolor": "#E5ECF6",
            "gridcolor": "white",
            "gridwidth": 2,
            "linecolor": "white",
            "showbackground": true,
            "ticks": "",
            "zerolinecolor": "white"
           }
          },
          "shapedefaults": {
           "line": {
            "color": "#2a3f5f"
           }
          },
          "ternary": {
           "aaxis": {
            "gridcolor": "white",
            "linecolor": "white",
            "ticks": ""
           },
           "baxis": {
            "gridcolor": "white",
            "linecolor": "white",
            "ticks": ""
           },
           "bgcolor": "#E5ECF6",
           "caxis": {
            "gridcolor": "white",
            "linecolor": "white",
            "ticks": ""
           }
          },
          "title": {
           "x": 0.05
          },
          "xaxis": {
           "automargin": true,
           "gridcolor": "white",
           "linecolor": "white",
           "ticks": "",
           "title": {
            "standoff": 15
           },
           "zerolinecolor": "white",
           "zerolinewidth": 2
          },
          "yaxis": {
           "automargin": true,
           "gridcolor": "white",
           "linecolor": "white",
           "ticks": "",
           "title": {
            "standoff": 15
           },
           "zerolinecolor": "white",
           "zerolinewidth": 2
          }
         }
        },
        "title": {
         "text": "Alcohol Content in Best Wines (Quality 7+)"
        },
        "xaxis": {
         "anchor": "y",
         "domain": [
          0,
          1
         ],
         "title": {
          "text": "Alcohol"
         }
        },
        "yaxis": {
         "anchor": "x",
         "domain": [
          0,
          1
         ],
         "title": {
          "text": "count"
         }
        }
       }
      }
     },
     "metadata": {},
     "output_type": "display_data"
    }
   ],
   "source": [
    "best_wines = wines[wines['quality'] >= 7]\n",
    "fig1 = px.histogram(best_wines, x='alcohol', nbins=20, \n",
    "                   title='Alcohol Content in Best Wines (Quality 7+)',\n",
    "                   labels={'alcohol': 'Alcohol'}, \n",
    "                   color_discrete_sequence=['#c8a2c8'])\n",
    "\n",
    "fig1.update_layout(\n",
    "    plot_bgcolor='white',\n",
    "    paper_bgcolor='white'\n",
    ")\n",
    "\n",
    "fig1.show()"
   ]
  },
  {
   "cell_type": "markdown",
   "metadata": {},
   "source": [
    "This graph shows us the wines with the highest alcohol contents across the highest quality of the data set. We can see that wines with 12% alcohol can have more potential for higher quality."
   ]
  },
  {
   "cell_type": "code",
   "execution_count": 68,
   "metadata": {},
   "outputs": [
    {
     "data": {
      "application/vnd.plotly.v1+json": {
       "config": {
        "plotlyServerURL": "https://plot.ly"
       },
       "data": [
        {
         "alignmentgroup": "True",
         "hovertemplate": "Average Quality=%{x}<br>Alcohol=%{y}<extra></extra>",
         "legendgroup": "5",
         "marker": {
          "color": "#c8a2c8"
         },
         "name": "5",
         "notched": false,
         "offsetgroup": "5",
         "orientation": "v",
         "showlegend": true,
         "type": "box",
         "x": {
          "bdata": "BQUFBQUFBQUFBQUFBQUFBQUFBQUFBQUFBQUFBQUFBQUFBQUFBQUFBQUFBQUFBQUFBQUFBQUFBQUFBQUFBQUFBQUFBQUFBQUFBQUFBQUFBQUFBQUFBQUFBQUFBQUFBQUFBQUFBQUFBQUFBQUFBQUFBQUFBQUFBQUFBQUFBQUFBQUFBQUFBQUFBQUFBQUFBQUFBQUFBQUFBQUFBQUFBQUFBQUFBQUFBQUFBQUFBQUFBQUFBQUFBQUFBQUFBQUFBQUFBQUFBQUFBQUFBQUFBQUFBQUFBQUFBQUFBQUFBQUFBQUFBQUFBQUFBQUFBQUFBQUFBQUFBQUFBQUFBQUFBQUFBQUFBQUFBQ==",
          "dtype": "i1"
         },
         "x0": " ",
         "xaxis": "x",
         "y": {
          "bdata": "mpmZmZmZI0AAAAAAAAAlQGZmZmZmZiJAAAAAAAAAJUBmZmZmZmYiQGZmZmZmZiJAZmZmZmZmI0DNzMzMzMwiQDMzMzMzMyRAmpmZmZmZI0AAAAAAAAAlQAAAAAAAACVAZmZmZmZmIkBmZmZmZmYiQM3MzMzMzCJAzczMzMzMIkCamZmZmZkiQGZmZmZmZiVAAAAAAAAAI0AAAAAAAAAjQDMzMzMzMyNAMzMzMzMzJEDNzMzMzMwiQDMzMzMzMyJAAAAAAAAAI0AAAAAAAAAjQJqZmZmZmSNAZmZmZmZmIkBmZmZmZmYiQJqZmZmZmSJAmpmZmZmZIkCamZmZmZkiQJqZmZmZmSNAmpmZmZmZI0AAAAAAAAAiQAAAAAAAACNAzczMzMzMIkDNzMzMzMwiQAAAAAAAACpAAAAAAAAAKkAzMzMzMzMjQAAAAAAAACNAAAAAAAAAI0AzMzMzMzMjQM3MzMzMzCJAAAAAAAAAJECamZmZmZkiQDMzMzMzMyRAMzMzMzMzJEAAAAAAAAAlQAAAAAAAACVAAAAAAAAAJUAAAAAAAAAlQM3MzMzMzCJAzczMzMzMIkAAAAAAAAAjQGZmZmZmZiRAAAAAAAAAI0CamZmZmZkiQJqZmZmZmSJAZmZmZmZmI0BmZmZmZmYiQAAAAAAAACNAAAAAAAAAI0DNzMzMzMwiQAAAAAAAACNAzczMzMzMIkCamZmZmZkiQJqZmZmZmSJAzczMzMzMIkAzMzMzMzMkQAAAAAAAACVAAAAAAAAAI0DNzMzMzMwiQJqZmZmZmSJAmpmZmZmZIkAAAAAAAAAjQJqZmZmZmSJAMzMzMzMzJEDNzMzMzMwiQJqZmZmZmSNAmpmZmZmZI0BmZmZmZmYiQM3MzMzMzCNAZmZmZmZmIkDNzMzMzMwiQAAAAAAAACZAMzMzMzMzJEBmZmZmZmYjQM3MzMzMzCNAAAAAAAAAKkDNzMzMzMwiQM3MzMzMzCJAzczMzMzMI0BmZmZmZmYiQDMzMzMzMyJAzczMzMzMI0DNzMzMzMwjQAAAAAAAACNAmpmZmZmZIkAAAAAAAAAjQJqZmZmZmSJAAAAAAAAAJUBmZmZmZmYiQAAAAAAAACVAMzMzMzMzJkAzMzMzMzMjQAAAAAAAACJAMzMzMzMzJkCamZmZmZkiQAAAAAAAACZAmpmZmZmZI0DNzMzMzMwiQAAAAAAAACNAAAAAAAAAJkAzMzMzMzMiQAAAAAAAACdAZmZmZmZmIkBmZmZmZmYiQAAAAAAAACNAmpmZmZmZI0CamZmZmZkiQGZmZmZmZiNAZmZmZmZmI0CamZmZmZkiQGZmZmZmZiNAZmZmZmZmI0DNzMzMzMwiQM3MzMzMzCJAmpmZmZmZIkAAAAAAAAAjQM3MzMzMzCJAzczMzMzMIkAAAAAAAAAjQAAAAAAAACNAZmZmZmZmJkDNzMzMzMwtQAAAAAAAACNAAAAAAAAAJEDNzMzMzMwiQJqZmZmZmSNAAAAAAAAAIkDNzMzMzMwiQM3MzMzMzCJAZmZmZmZmI0AzMzMzMzMkQAAAAAAAACNAmpmZmZmZI0BmZmZmZmYiQAAAAAAAACNAAAAAAAAAI0BmZmZmZmYiQAAAAAAAACNAAAAAAAAAJEAAAAAAAAAjQM3MzMzMzCJAzczMzMzMIkBmZmZmZmYiQGZmZmZmZiNAzczMzMzMIkAAAAAAAAAjQM3MzMzMzCJAzczMzMzMIkCamZmZmZkjQAAAAAAAACRAmpmZmZmZI0AAAAAAAAAjQAAAAAAAACNAmpmZmZmZIkAzMzMzMzMjQDMzMzMzMyNAzczMzMzMIkDNzMzMzMwiQGZmZmZmZiNAAAAAAAAAI0BmZmZmZmYjQAAAAAAAACNAZmZmZmZmI0AAAAAAAAAjQAAAAAAAACNAmpmZmZmZIkBmZmZmZmYjQGZmZmZmZiNAAAAAAAAAI0AAAAAAAAAmQAAAAAAAACZAZmZmZmZmIkDNzMzMzMwiQM3MzMzMzCJAMzMzMzMzIkDNzMzMzMwiQM3MzMzMzCJAzczMzMzMIkDNzMzMzMwiQDMzMzMzMyJAZmZmZmZmIkBmZmZmZmYiQDMzMzMzMyNAAAAAAAAAJEAAAAAAAAAjQDMzMzMzMyJAMzMzMzMzJEDNzMzMzMwmQJqZmZmZmSJAzczMzMzMJUDNzMzMzMwlQM3MzMzMzCJAzczMzMzMIkAAAAAAAAAjQJqZmZmZmSVAAAAAAAAAI0CamZmZmZkjQAAAAAAAACNAmpmZmZmZI0BmZmZmZmYkQGZmZmZmZiRAAAAAAAAAI0AAAAAAAAAjQGZmZmZmZiZAZmZmZmZmIkCamZmZmZkjQDMzMzMzMyRAMzMzMzMzJEBmZmZmZmYiQJqZmZmZmSNAMzMzMzMzJEBmZmZmZmYiQAAAAAAAACRAAAAAAAAAI0BmZmZmZmYiQGZmZmZmZiJAmpmZmZmZIkDNzMzMzMwjQM3MzMzMzCNAzczMzMzMI0AAAAAAAAAjQGZmZmZmZiJAZmZmZmZmI0BmZmZmZmYiQM3MzMzMzCNAzczMzMzMI0DNzMzMzMwjQDMzMzMzMyRAzczMzMzMI0CamZmZmZkmQAAAAAAAACFAAAAAAAAAIkAAAAAAAAAiQJqZmZmZmSFAmpmZmZmZIUBmZmZmZmYjQGZmZmZmZiNAzczMzMzMIkDNzMzMzMwkQAAAAAAAACJAAAAAAAAAI0DNzMzMzMwjQM3MzMzMzCNAzczMzMzMI0AAAAAAAAAjQJqZmZmZmSNAZmZmZmZmIkA=",
          "dtype": "f8"
         },
         "y0": " ",
         "yaxis": "y"
        },
        {
         "alignmentgroup": "True",
         "hovertemplate": "Average Quality=%{x}<br>Alcohol=%{y}<extra></extra>",
         "legendgroup": "7",
         "marker": {
          "color": "#c8a2c8"
         },
         "name": "7",
         "notched": false,
         "offsetgroup": "7",
         "orientation": "v",
         "showlegend": true,
         "type": "box",
         "x": {
          "bdata": "BwcHBwcHBwcHBwcHBwcHBwcHBwc=",
          "dtype": "i1"
         },
         "x0": " ",
         "xaxis": "x",
         "y": {
          "bdata": "AAAAAAAAJUAAAAAAAAAqQGZmZmZmZihAmpmZmZmZJ0CamZmZmZklQAAAAAAAAChAAAAAAAAAKEBmZmZmZmYlQM3MzMzMzClAZmZmZmZmJ0BmZmZmZmYnQAAAAAAAACZAZmZmZmZmJECamZmZmZkoQJqZmZmZmShAmpmZmZmZJ0DNzMzMzMwpQDMzMzMzMytANCIiIiIiK0AzMzMzMzMrQA==",
          "dtype": "f8"
         },
         "y0": " ",
         "yaxis": "y"
        },
        {
         "alignmentgroup": "True",
         "hovertemplate": "Average Quality=%{x}<br>Alcohol=%{y}<extra></extra>",
         "legendgroup": "6",
         "marker": {
          "color": "#c8a2c8"
         },
         "name": "6",
         "notched": false,
         "offsetgroup": "6",
         "orientation": "v",
         "showlegend": true,
         "type": "box",
         "x": {
          "bdata": "BgYGBgYGBgYGBgYGBgYGBgYGBgYGBgYGBgYGBgYGBgYGBgYGBgYGBgYGBgYGBgYGBgYGBgYGBgYGBgYGBgYGBgYGBgYGBgYGBgYGBgYGBgYGBgYGBgYGBgYGBgYGBgYGBgYGBgYGBgYGBgYGBgYGBgYGBgYGBgYG",
          "dtype": "i1"
         },
         "x0": " ",
         "xaxis": "x",
         "y": {
          "bdata": "zczMzMzMIkBmZmZmZmYkQJqZmZmZmSRAzczMzMzMI0DNzMzMzMwjQM3MzMzMzClAMzMzMzMzI0AAAAAAAAAlQGZmZmZmZiJAAAAAAAAALEAAAAAAAAAsQJqZmZmZmSJAmpmZmZmZIkAAAAAAAAAkQAAAAAAAACVAAAAAAAAAI0AAAAAAAAAlQJqZmZmZmSNAZmZmZmZmJUBmZmZmZmYlQM3MzMzMzCJAAAAAAAAAI0DNzMzMzMwkQM3MzMzMzCRAAAAAAAAAI0DNzMzMzMwiQAAAAAAAACdAzczMzMzMJ0AAAAAAAAAlQAAAAAAAACNAZmZmZmZmJEDNzMzMzMwkQDMzMzMzMydAMzMzMzMzKEAzMzMzMzMnQGZmZmZmZiRAZmZmZmZmJEDNzMzMzMwmQM3MzMzMzCRAAAAAAAAAJEAAAAAAAAAnQDMzMzMzMyJAzczMzMzMJEBmZmZmZmYkQJqZmZmZmSZAMzMzMzMzJEBmZmZmZmYjQGZmZmZmZiNAZmZmZmZmI0BmZmZmZmYjQM3MzMzMzCVAAAAAAAAAJ0AAAAAAAAAkQAAAAAAAACRAZmZmZmZmJkCamZmZmZkjQJqZmZmZmSVAAAAAAAAAJkAAAAAAAAAmQGZmZmZmZiRAAAAAAAAAI0CamZmZmZknQJqZmZmZmSdAzczMzMzMKUBmZmZmZmYpQGZmZmZmZilAMzMzMzMzJEAzMzMzMzMiQDMzMzMzMyJAAAAAAAAAI0AAAAAAAAAjQAAAAAAAACNAmpmZmZmZJUAzMzMzMzMrQAAAAAAAACVAAAAAAAAAI0AAAAAAAAAjQAAAAAAAACZAAAAAAAAAKUDNzMzMzMwmQAAAAAAAACNAAAAAAAAAI0AAAAAAAAAjQAAAAAAAACNAzczMzMzMJUAAAAAAAAAjQAAAAAAAACNAAAAAAAAAKEAzMzMzMzMjQJqZmZmZmSRAAAAAAAAAJkBmZmZmZmYnQAAAAAAAACNAAAAAAAAAI0BmZmZmZmYkQDMzMzMzMyRAMzMzMzMzJECamZmZmZkjQJqZmZmZmSNAMzMzMzMzIkCamZmZmZkjQJqZmZmZmSNAMzMzMzMzJkAAAAAAAAAlQJqZmZmZmSNAZmZmZmZmKEDNzMzMzMwjQAAAAAAAACJAAAAAAAAAIkA0IiIiIiImQCQiIiIiIiNAMzMzMzMzJkAzMzMzMzMjQJqZmZmZGSVAzczMzMzMJEAAAAAAAAAlQHZ3d3d3dyJAAAAAAACAIkAAAAAAAAAlQJqZmZmZmSlA",
          "dtype": "f8"
         },
         "y0": " ",
         "yaxis": "y"
        },
        {
         "alignmentgroup": "True",
         "hovertemplate": "Average Quality=%{x}<br>Alcohol=%{y}<extra></extra>",
         "legendgroup": "4",
         "marker": {
          "color": "#c8a2c8"
         },
         "name": "4",
         "notched": false,
         "offsetgroup": "4",
         "orientation": "v",
         "showlegend": true,
         "type": "box",
         "x": {
          "bdata": "BAQEBAQEBAQEBAQ=",
          "dtype": "i1"
         },
         "x0": " ",
         "xaxis": "x",
         "y": {
          "bdata": "MzMzMzMzKkAzMzMzMzMiQAAAAAAAACVAzczMzMzMIkDNzMzMzMwiQJqZmZmZmSNAmpmZmZmZJkAzMzMzMzMjQGZmZmZmZiJAAAAAAAAAJ0CamZmZmZkjQA==",
          "dtype": "f8"
         },
         "y0": " ",
         "yaxis": "y"
        },
        {
         "alignmentgroup": "True",
         "hovertemplate": "Average Quality=%{x}<br>Alcohol=%{y}<extra></extra>",
         "legendgroup": "8",
         "marker": {
          "color": "#c8a2c8"
         },
         "name": "8",
         "notched": false,
         "offsetgroup": "8",
         "orientation": "v",
         "showlegend": true,
         "type": "box",
         "x": {
          "bdata": "CAgI",
          "dtype": "i1"
         },
         "x0": " ",
         "xaxis": "x",
         "y": {
          "bdata": "zczMzMzMKUCamZmZmZknQAAAAAAAACxA",
          "dtype": "f8"
         },
         "y0": " ",
         "yaxis": "y"
        }
       ],
       "layout": {
        "boxmode": "overlay",
        "legend": {
         "title": {
          "text": "Average Quality"
         },
         "tracegroupgap": 0
        },
        "template": {
         "data": {
          "bar": [
           {
            "error_x": {
             "color": "#2a3f5f"
            },
            "error_y": {
             "color": "#2a3f5f"
            },
            "marker": {
             "line": {
              "color": "#E5ECF6",
              "width": 0.5
             },
             "pattern": {
              "fillmode": "overlay",
              "size": 10,
              "solidity": 0.2
             }
            },
            "type": "bar"
           }
          ],
          "barpolar": [
           {
            "marker": {
             "line": {
              "color": "#E5ECF6",
              "width": 0.5
             },
             "pattern": {
              "fillmode": "overlay",
              "size": 10,
              "solidity": 0.2
             }
            },
            "type": "barpolar"
           }
          ],
          "carpet": [
           {
            "aaxis": {
             "endlinecolor": "#2a3f5f",
             "gridcolor": "white",
             "linecolor": "white",
             "minorgridcolor": "white",
             "startlinecolor": "#2a3f5f"
            },
            "baxis": {
             "endlinecolor": "#2a3f5f",
             "gridcolor": "white",
             "linecolor": "white",
             "minorgridcolor": "white",
             "startlinecolor": "#2a3f5f"
            },
            "type": "carpet"
           }
          ],
          "choropleth": [
           {
            "colorbar": {
             "outlinewidth": 0,
             "ticks": ""
            },
            "type": "choropleth"
           }
          ],
          "contour": [
           {
            "colorbar": {
             "outlinewidth": 0,
             "ticks": ""
            },
            "colorscale": [
             [
              0,
              "#0d0887"
             ],
             [
              0.1111111111111111,
              "#46039f"
             ],
             [
              0.2222222222222222,
              "#7201a8"
             ],
             [
              0.3333333333333333,
              "#9c179e"
             ],
             [
              0.4444444444444444,
              "#bd3786"
             ],
             [
              0.5555555555555556,
              "#d8576b"
             ],
             [
              0.6666666666666666,
              "#ed7953"
             ],
             [
              0.7777777777777778,
              "#fb9f3a"
             ],
             [
              0.8888888888888888,
              "#fdca26"
             ],
             [
              1,
              "#f0f921"
             ]
            ],
            "type": "contour"
           }
          ],
          "contourcarpet": [
           {
            "colorbar": {
             "outlinewidth": 0,
             "ticks": ""
            },
            "type": "contourcarpet"
           }
          ],
          "heatmap": [
           {
            "colorbar": {
             "outlinewidth": 0,
             "ticks": ""
            },
            "colorscale": [
             [
              0,
              "#0d0887"
             ],
             [
              0.1111111111111111,
              "#46039f"
             ],
             [
              0.2222222222222222,
              "#7201a8"
             ],
             [
              0.3333333333333333,
              "#9c179e"
             ],
             [
              0.4444444444444444,
              "#bd3786"
             ],
             [
              0.5555555555555556,
              "#d8576b"
             ],
             [
              0.6666666666666666,
              "#ed7953"
             ],
             [
              0.7777777777777778,
              "#fb9f3a"
             ],
             [
              0.8888888888888888,
              "#fdca26"
             ],
             [
              1,
              "#f0f921"
             ]
            ],
            "type": "heatmap"
           }
          ],
          "histogram": [
           {
            "marker": {
             "pattern": {
              "fillmode": "overlay",
              "size": 10,
              "solidity": 0.2
             }
            },
            "type": "histogram"
           }
          ],
          "histogram2d": [
           {
            "colorbar": {
             "outlinewidth": 0,
             "ticks": ""
            },
            "colorscale": [
             [
              0,
              "#0d0887"
             ],
             [
              0.1111111111111111,
              "#46039f"
             ],
             [
              0.2222222222222222,
              "#7201a8"
             ],
             [
              0.3333333333333333,
              "#9c179e"
             ],
             [
              0.4444444444444444,
              "#bd3786"
             ],
             [
              0.5555555555555556,
              "#d8576b"
             ],
             [
              0.6666666666666666,
              "#ed7953"
             ],
             [
              0.7777777777777778,
              "#fb9f3a"
             ],
             [
              0.8888888888888888,
              "#fdca26"
             ],
             [
              1,
              "#f0f921"
             ]
            ],
            "type": "histogram2d"
           }
          ],
          "histogram2dcontour": [
           {
            "colorbar": {
             "outlinewidth": 0,
             "ticks": ""
            },
            "colorscale": [
             [
              0,
              "#0d0887"
             ],
             [
              0.1111111111111111,
              "#46039f"
             ],
             [
              0.2222222222222222,
              "#7201a8"
             ],
             [
              0.3333333333333333,
              "#9c179e"
             ],
             [
              0.4444444444444444,
              "#bd3786"
             ],
             [
              0.5555555555555556,
              "#d8576b"
             ],
             [
              0.6666666666666666,
              "#ed7953"
             ],
             [
              0.7777777777777778,
              "#fb9f3a"
             ],
             [
              0.8888888888888888,
              "#fdca26"
             ],
             [
              1,
              "#f0f921"
             ]
            ],
            "type": "histogram2dcontour"
           }
          ],
          "mesh3d": [
           {
            "colorbar": {
             "outlinewidth": 0,
             "ticks": ""
            },
            "type": "mesh3d"
           }
          ],
          "parcoords": [
           {
            "line": {
             "colorbar": {
              "outlinewidth": 0,
              "ticks": ""
             }
            },
            "type": "parcoords"
           }
          ],
          "pie": [
           {
            "automargin": true,
            "type": "pie"
           }
          ],
          "scatter": [
           {
            "fillpattern": {
             "fillmode": "overlay",
             "size": 10,
             "solidity": 0.2
            },
            "type": "scatter"
           }
          ],
          "scatter3d": [
           {
            "line": {
             "colorbar": {
              "outlinewidth": 0,
              "ticks": ""
             }
            },
            "marker": {
             "colorbar": {
              "outlinewidth": 0,
              "ticks": ""
             }
            },
            "type": "scatter3d"
           }
          ],
          "scattercarpet": [
           {
            "marker": {
             "colorbar": {
              "outlinewidth": 0,
              "ticks": ""
             }
            },
            "type": "scattercarpet"
           }
          ],
          "scattergeo": [
           {
            "marker": {
             "colorbar": {
              "outlinewidth": 0,
              "ticks": ""
             }
            },
            "type": "scattergeo"
           }
          ],
          "scattergl": [
           {
            "marker": {
             "colorbar": {
              "outlinewidth": 0,
              "ticks": ""
             }
            },
            "type": "scattergl"
           }
          ],
          "scattermap": [
           {
            "marker": {
             "colorbar": {
              "outlinewidth": 0,
              "ticks": ""
             }
            },
            "type": "scattermap"
           }
          ],
          "scattermapbox": [
           {
            "marker": {
             "colorbar": {
              "outlinewidth": 0,
              "ticks": ""
             }
            },
            "type": "scattermapbox"
           }
          ],
          "scatterpolar": [
           {
            "marker": {
             "colorbar": {
              "outlinewidth": 0,
              "ticks": ""
             }
            },
            "type": "scatterpolar"
           }
          ],
          "scatterpolargl": [
           {
            "marker": {
             "colorbar": {
              "outlinewidth": 0,
              "ticks": ""
             }
            },
            "type": "scatterpolargl"
           }
          ],
          "scatterternary": [
           {
            "marker": {
             "colorbar": {
              "outlinewidth": 0,
              "ticks": ""
             }
            },
            "type": "scatterternary"
           }
          ],
          "surface": [
           {
            "colorbar": {
             "outlinewidth": 0,
             "ticks": ""
            },
            "colorscale": [
             [
              0,
              "#0d0887"
             ],
             [
              0.1111111111111111,
              "#46039f"
             ],
             [
              0.2222222222222222,
              "#7201a8"
             ],
             [
              0.3333333333333333,
              "#9c179e"
             ],
             [
              0.4444444444444444,
              "#bd3786"
             ],
             [
              0.5555555555555556,
              "#d8576b"
             ],
             [
              0.6666666666666666,
              "#ed7953"
             ],
             [
              0.7777777777777778,
              "#fb9f3a"
             ],
             [
              0.8888888888888888,
              "#fdca26"
             ],
             [
              1,
              "#f0f921"
             ]
            ],
            "type": "surface"
           }
          ],
          "table": [
           {
            "cells": {
             "fill": {
              "color": "#EBF0F8"
             },
             "line": {
              "color": "white"
             }
            },
            "header": {
             "fill": {
              "color": "#C8D4E3"
             },
             "line": {
              "color": "white"
             }
            },
            "type": "table"
           }
          ]
         },
         "layout": {
          "annotationdefaults": {
           "arrowcolor": "#2a3f5f",
           "arrowhead": 0,
           "arrowwidth": 1
          },
          "autotypenumbers": "strict",
          "coloraxis": {
           "colorbar": {
            "outlinewidth": 0,
            "ticks": ""
           }
          },
          "colorscale": {
           "diverging": [
            [
             0,
             "#8e0152"
            ],
            [
             0.1,
             "#c51b7d"
            ],
            [
             0.2,
             "#de77ae"
            ],
            [
             0.3,
             "#f1b6da"
            ],
            [
             0.4,
             "#fde0ef"
            ],
            [
             0.5,
             "#f7f7f7"
            ],
            [
             0.6,
             "#e6f5d0"
            ],
            [
             0.7,
             "#b8e186"
            ],
            [
             0.8,
             "#7fbc41"
            ],
            [
             0.9,
             "#4d9221"
            ],
            [
             1,
             "#276419"
            ]
           ],
           "sequential": [
            [
             0,
             "#0d0887"
            ],
            [
             0.1111111111111111,
             "#46039f"
            ],
            [
             0.2222222222222222,
             "#7201a8"
            ],
            [
             0.3333333333333333,
             "#9c179e"
            ],
            [
             0.4444444444444444,
             "#bd3786"
            ],
            [
             0.5555555555555556,
             "#d8576b"
            ],
            [
             0.6666666666666666,
             "#ed7953"
            ],
            [
             0.7777777777777778,
             "#fb9f3a"
            ],
            [
             0.8888888888888888,
             "#fdca26"
            ],
            [
             1,
             "#f0f921"
            ]
           ],
           "sequentialminus": [
            [
             0,
             "#0d0887"
            ],
            [
             0.1111111111111111,
             "#46039f"
            ],
            [
             0.2222222222222222,
             "#7201a8"
            ],
            [
             0.3333333333333333,
             "#9c179e"
            ],
            [
             0.4444444444444444,
             "#bd3786"
            ],
            [
             0.5555555555555556,
             "#d8576b"
            ],
            [
             0.6666666666666666,
             "#ed7953"
            ],
            [
             0.7777777777777778,
             "#fb9f3a"
            ],
            [
             0.8888888888888888,
             "#fdca26"
            ],
            [
             1,
             "#f0f921"
            ]
           ]
          },
          "colorway": [
           "#636efa",
           "#EF553B",
           "#00cc96",
           "#ab63fa",
           "#FFA15A",
           "#19d3f3",
           "#FF6692",
           "#B6E880",
           "#FF97FF",
           "#FECB52"
          ],
          "font": {
           "color": "#2a3f5f"
          },
          "geo": {
           "bgcolor": "white",
           "lakecolor": "white",
           "landcolor": "#E5ECF6",
           "showlakes": true,
           "showland": true,
           "subunitcolor": "white"
          },
          "hoverlabel": {
           "align": "left"
          },
          "hovermode": "closest",
          "mapbox": {
           "style": "light"
          },
          "paper_bgcolor": "white",
          "plot_bgcolor": "#E5ECF6",
          "polar": {
           "angularaxis": {
            "gridcolor": "white",
            "linecolor": "white",
            "ticks": ""
           },
           "bgcolor": "#E5ECF6",
           "radialaxis": {
            "gridcolor": "white",
            "linecolor": "white",
            "ticks": ""
           }
          },
          "scene": {
           "xaxis": {
            "backgroundcolor": "#E5ECF6",
            "gridcolor": "white",
            "gridwidth": 2,
            "linecolor": "white",
            "showbackground": true,
            "ticks": "",
            "zerolinecolor": "white"
           },
           "yaxis": {
            "backgroundcolor": "#E5ECF6",
            "gridcolor": "white",
            "gridwidth": 2,
            "linecolor": "white",
            "showbackground": true,
            "ticks": "",
            "zerolinecolor": "white"
           },
           "zaxis": {
            "backgroundcolor": "#E5ECF6",
            "gridcolor": "white",
            "gridwidth": 2,
            "linecolor": "white",
            "showbackground": true,
            "ticks": "",
            "zerolinecolor": "white"
           }
          },
          "shapedefaults": {
           "line": {
            "color": "#2a3f5f"
           }
          },
          "ternary": {
           "aaxis": {
            "gridcolor": "white",
            "linecolor": "white",
            "ticks": ""
           },
           "baxis": {
            "gridcolor": "white",
            "linecolor": "white",
            "ticks": ""
           },
           "bgcolor": "#E5ECF6",
           "caxis": {
            "gridcolor": "white",
            "linecolor": "white",
            "ticks": ""
           }
          },
          "title": {
           "x": 0.05
          },
          "xaxis": {
           "automargin": true,
           "gridcolor": "white",
           "linecolor": "white",
           "ticks": "",
           "title": {
            "standoff": 15
           },
           "zerolinecolor": "white",
           "zerolinewidth": 2
          },
          "yaxis": {
           "automargin": true,
           "gridcolor": "white",
           "linecolor": "white",
           "ticks": "",
           "title": {
            "standoff": 15
           },
           "zerolinecolor": "white",
           "zerolinewidth": 2
          }
         }
        },
        "title": {
         "text": "Alcohol Distribution Across Wine Quality"
        },
        "xaxis": {
         "anchor": "y",
         "categoryarray": [
          5,
          7,
          6,
          4,
          8
         ],
         "categoryorder": "array",
         "domain": [
          0,
          1
         ],
         "title": {
          "text": "Average Quality"
         }
        },
        "yaxis": {
         "anchor": "x",
         "domain": [
          0,
          1
         ],
         "title": {
          "text": "Alcohol"
         }
        }
       }
      }
     },
     "metadata": {},
     "output_type": "display_data"
    }
   ],
   "source": [
    "fig2 = px.box(wines, x='quality', y='alcohol', \n",
    "             title='Alcohol Distribution Across Wine Quality', \n",
    "             color='quality', \n",
    "             labels={'alcohol': 'Alcohol', 'quality': 'Average Quality'},\n",
    "             color_discrete_sequence=['#c8a2c8'])\n",
    "fig2.show()"
   ]
  },
  {
   "cell_type": "markdown",
   "metadata": {},
   "source": [
    "And in this graph (figure 2) we are analysing the alcohol and wine quality across all entries. Again, we can see more entries alligned in the 12% range of the box plots suggesting this is an excellent choice of alcohol content for wine. We can also see that as alcohol increases, so does the quality, which may be from drinking too much of the wines. Furthermore, it appears that anything with a quality of 4 (we removed all entries less then this number) have a somewhat lower percentage of alcohol, however their quality may be impacted by other variables which have no been considered in figure 2."
   ]
  },
  {
   "cell_type": "code",
   "execution_count": 69,
   "metadata": {},
   "outputs": [
    {
     "data": {
      "application/vnd.plotly.v1+json": {
       "config": {
        "plotlyServerURL": "https://plot.ly"
       },
       "data": [
        {
         "hovertemplate": "Residual Sugar=%{x}<br>Average Quality=%{y}<extra></extra>",
         "legendgroup": "",
         "marker": {
          "color": "#c8a2c8",
          "pattern": {
           "shape": ""
          }
         },
         "name": "",
         "orientation": "v",
         "showlegend": false,
         "textposition": "auto",
         "type": "bar",
         "x": {
          "bdata": "zczMzMzM7D8zMzMzMzPzP2ZmZmZmZvY/AAAAAAAA+D+amZmZmZn5PzMzMzMzM/s/AAAAAAAA/D/NzMzMzMz8P2ZmZmZmZv4/AAAAAAAAAEDNzMzMzMwAQJqZmZmZmQFAZmZmZmZmAkAzMzMzMzMDQAAAAAAAAARAzczMzMzMBECamZmZmZkFQGZmZmZmZgZAzczMzMzMBkAzMzMzMzMHQAAAAAAAAAhAmpmZmZmZCUBmZmZmZmYKQDMzMzMzMwtAmpmZmZmZDUBmZmZmZmYOQDMzMzMzMw9AAAAAAAAAEEBmZmZmZmYQQDMzMzMzMxFAAAAAAAAAEkAzMzMzMzMTQGZmZmZmZhRAzczMzMzMFECamZmZmZkVQAAAAAAAABZAZmZmZmZmFkAzMzMzMzMXQJqZmZmZmRdAZmZmZmZmGEAzMzMzMzMaQGZmZmZmZhpAzczMzMzMGkAAAAAAAAAcQM3MzMzMzBxAMzMzMzMzHUAAAAAAAAAeQDMzMzMzMx9AmpmZmZmZH0AzMzMzMzMgQJqZmZmZmSBAMzMzMzMzIUBmZmZmZmYlQM3MzMzMzClAzczMzMzMKkCamZmZmZkrQM3MzMzMzCtAzczMzMzMLkA=",
          "dtype": "f8"
         },
         "xaxis": "x",
         "y": {
          "bdata": "AAAAAAAAGEAAAAAAAAAcQGZmZmZmZhZAAAAAAAAAEkBVVVVVVVUVQAAAAAAAABZAAAAAAAAAHEBP7MRO7MQWQCVJkiRJkhVAwzAMwzAMFUDCck8jLPcUQI7jOI7jOBZAxVd8xVd8FUCSJEmSJEkWQKgRlnsaYRVAOY7jOI7jFEBddNFFF10UQAAAAAAAABZAAAAAAAAAFECamZmZmZkVQG7btm3bthVAAAAAAAAAFkAAAAAAAAAUQAAAAAAAABRAAAAAAAAAFEAAAAAAAAAUQAAAAAAAABRAq6qqqqqqFkAAAAAAAAAYQAAAAAAAABVAAAAAAAAAFEAAAAAAAAAWQAAAAAAAABZAAAAAAAAAGEAAAAAAAAAUQAAAAAAAABRAAAAAAAAAFEAAAAAAAAAUQAAAAAAAABRAAAAAAAAAFEAAAAAAAAAcQAAAAAAAABRAAAAAAAAAFEAAAAAAAAAUQAAAAAAAABRAAAAAAAAAFEAAAAAAAAAUQAAAAAAAABRAAAAAAAAAFEAAAAAAAAAUQKuqqqqqqhpAAAAAAAAAGEAAAAAAAAAYQAAAAAAAABBAAAAAAAAAGEAAAAAAAAAUQAAAAAAAABhAAAAAAAAAGEA=",
          "dtype": "f8"
         },
         "yaxis": "y"
        }
       ],
       "layout": {
        "barmode": "relative",
        "legend": {
         "tracegroupgap": 0
        },
        "paper_bgcolor": "white",
        "plot_bgcolor": "white",
        "template": {
         "data": {
          "bar": [
           {
            "error_x": {
             "color": "#2a3f5f"
            },
            "error_y": {
             "color": "#2a3f5f"
            },
            "marker": {
             "line": {
              "color": "#E5ECF6",
              "width": 0.5
             },
             "pattern": {
              "fillmode": "overlay",
              "size": 10,
              "solidity": 0.2
             }
            },
            "type": "bar"
           }
          ],
          "barpolar": [
           {
            "marker": {
             "line": {
              "color": "#E5ECF6",
              "width": 0.5
             },
             "pattern": {
              "fillmode": "overlay",
              "size": 10,
              "solidity": 0.2
             }
            },
            "type": "barpolar"
           }
          ],
          "carpet": [
           {
            "aaxis": {
             "endlinecolor": "#2a3f5f",
             "gridcolor": "white",
             "linecolor": "white",
             "minorgridcolor": "white",
             "startlinecolor": "#2a3f5f"
            },
            "baxis": {
             "endlinecolor": "#2a3f5f",
             "gridcolor": "white",
             "linecolor": "white",
             "minorgridcolor": "white",
             "startlinecolor": "#2a3f5f"
            },
            "type": "carpet"
           }
          ],
          "choropleth": [
           {
            "colorbar": {
             "outlinewidth": 0,
             "ticks": ""
            },
            "type": "choropleth"
           }
          ],
          "contour": [
           {
            "colorbar": {
             "outlinewidth": 0,
             "ticks": ""
            },
            "colorscale": [
             [
              0,
              "#0d0887"
             ],
             [
              0.1111111111111111,
              "#46039f"
             ],
             [
              0.2222222222222222,
              "#7201a8"
             ],
             [
              0.3333333333333333,
              "#9c179e"
             ],
             [
              0.4444444444444444,
              "#bd3786"
             ],
             [
              0.5555555555555556,
              "#d8576b"
             ],
             [
              0.6666666666666666,
              "#ed7953"
             ],
             [
              0.7777777777777778,
              "#fb9f3a"
             ],
             [
              0.8888888888888888,
              "#fdca26"
             ],
             [
              1,
              "#f0f921"
             ]
            ],
            "type": "contour"
           }
          ],
          "contourcarpet": [
           {
            "colorbar": {
             "outlinewidth": 0,
             "ticks": ""
            },
            "type": "contourcarpet"
           }
          ],
          "heatmap": [
           {
            "colorbar": {
             "outlinewidth": 0,
             "ticks": ""
            },
            "colorscale": [
             [
              0,
              "#0d0887"
             ],
             [
              0.1111111111111111,
              "#46039f"
             ],
             [
              0.2222222222222222,
              "#7201a8"
             ],
             [
              0.3333333333333333,
              "#9c179e"
             ],
             [
              0.4444444444444444,
              "#bd3786"
             ],
             [
              0.5555555555555556,
              "#d8576b"
             ],
             [
              0.6666666666666666,
              "#ed7953"
             ],
             [
              0.7777777777777778,
              "#fb9f3a"
             ],
             [
              0.8888888888888888,
              "#fdca26"
             ],
             [
              1,
              "#f0f921"
             ]
            ],
            "type": "heatmap"
           }
          ],
          "histogram": [
           {
            "marker": {
             "pattern": {
              "fillmode": "overlay",
              "size": 10,
              "solidity": 0.2
             }
            },
            "type": "histogram"
           }
          ],
          "histogram2d": [
           {
            "colorbar": {
             "outlinewidth": 0,
             "ticks": ""
            },
            "colorscale": [
             [
              0,
              "#0d0887"
             ],
             [
              0.1111111111111111,
              "#46039f"
             ],
             [
              0.2222222222222222,
              "#7201a8"
             ],
             [
              0.3333333333333333,
              "#9c179e"
             ],
             [
              0.4444444444444444,
              "#bd3786"
             ],
             [
              0.5555555555555556,
              "#d8576b"
             ],
             [
              0.6666666666666666,
              "#ed7953"
             ],
             [
              0.7777777777777778,
              "#fb9f3a"
             ],
             [
              0.8888888888888888,
              "#fdca26"
             ],
             [
              1,
              "#f0f921"
             ]
            ],
            "type": "histogram2d"
           }
          ],
          "histogram2dcontour": [
           {
            "colorbar": {
             "outlinewidth": 0,
             "ticks": ""
            },
            "colorscale": [
             [
              0,
              "#0d0887"
             ],
             [
              0.1111111111111111,
              "#46039f"
             ],
             [
              0.2222222222222222,
              "#7201a8"
             ],
             [
              0.3333333333333333,
              "#9c179e"
             ],
             [
              0.4444444444444444,
              "#bd3786"
             ],
             [
              0.5555555555555556,
              "#d8576b"
             ],
             [
              0.6666666666666666,
              "#ed7953"
             ],
             [
              0.7777777777777778,
              "#fb9f3a"
             ],
             [
              0.8888888888888888,
              "#fdca26"
             ],
             [
              1,
              "#f0f921"
             ]
            ],
            "type": "histogram2dcontour"
           }
          ],
          "mesh3d": [
           {
            "colorbar": {
             "outlinewidth": 0,
             "ticks": ""
            },
            "type": "mesh3d"
           }
          ],
          "parcoords": [
           {
            "line": {
             "colorbar": {
              "outlinewidth": 0,
              "ticks": ""
             }
            },
            "type": "parcoords"
           }
          ],
          "pie": [
           {
            "automargin": true,
            "type": "pie"
           }
          ],
          "scatter": [
           {
            "fillpattern": {
             "fillmode": "overlay",
             "size": 10,
             "solidity": 0.2
            },
            "type": "scatter"
           }
          ],
          "scatter3d": [
           {
            "line": {
             "colorbar": {
              "outlinewidth": 0,
              "ticks": ""
             }
            },
            "marker": {
             "colorbar": {
              "outlinewidth": 0,
              "ticks": ""
             }
            },
            "type": "scatter3d"
           }
          ],
          "scattercarpet": [
           {
            "marker": {
             "colorbar": {
              "outlinewidth": 0,
              "ticks": ""
             }
            },
            "type": "scattercarpet"
           }
          ],
          "scattergeo": [
           {
            "marker": {
             "colorbar": {
              "outlinewidth": 0,
              "ticks": ""
             }
            },
            "type": "scattergeo"
           }
          ],
          "scattergl": [
           {
            "marker": {
             "colorbar": {
              "outlinewidth": 0,
              "ticks": ""
             }
            },
            "type": "scattergl"
           }
          ],
          "scattermap": [
           {
            "marker": {
             "colorbar": {
              "outlinewidth": 0,
              "ticks": ""
             }
            },
            "type": "scattermap"
           }
          ],
          "scattermapbox": [
           {
            "marker": {
             "colorbar": {
              "outlinewidth": 0,
              "ticks": ""
             }
            },
            "type": "scattermapbox"
           }
          ],
          "scatterpolar": [
           {
            "marker": {
             "colorbar": {
              "outlinewidth": 0,
              "ticks": ""
             }
            },
            "type": "scatterpolar"
           }
          ],
          "scatterpolargl": [
           {
            "marker": {
             "colorbar": {
              "outlinewidth": 0,
              "ticks": ""
             }
            },
            "type": "scatterpolargl"
           }
          ],
          "scatterternary": [
           {
            "marker": {
             "colorbar": {
              "outlinewidth": 0,
              "ticks": ""
             }
            },
            "type": "scatterternary"
           }
          ],
          "surface": [
           {
            "colorbar": {
             "outlinewidth": 0,
             "ticks": ""
            },
            "colorscale": [
             [
              0,
              "#0d0887"
             ],
             [
              0.1111111111111111,
              "#46039f"
             ],
             [
              0.2222222222222222,
              "#7201a8"
             ],
             [
              0.3333333333333333,
              "#9c179e"
             ],
             [
              0.4444444444444444,
              "#bd3786"
             ],
             [
              0.5555555555555556,
              "#d8576b"
             ],
             [
              0.6666666666666666,
              "#ed7953"
             ],
             [
              0.7777777777777778,
              "#fb9f3a"
             ],
             [
              0.8888888888888888,
              "#fdca26"
             ],
             [
              1,
              "#f0f921"
             ]
            ],
            "type": "surface"
           }
          ],
          "table": [
           {
            "cells": {
             "fill": {
              "color": "#EBF0F8"
             },
             "line": {
              "color": "white"
             }
            },
            "header": {
             "fill": {
              "color": "#C8D4E3"
             },
             "line": {
              "color": "white"
             }
            },
            "type": "table"
           }
          ]
         },
         "layout": {
          "annotationdefaults": {
           "arrowcolor": "#2a3f5f",
           "arrowhead": 0,
           "arrowwidth": 1
          },
          "autotypenumbers": "strict",
          "coloraxis": {
           "colorbar": {
            "outlinewidth": 0,
            "ticks": ""
           }
          },
          "colorscale": {
           "diverging": [
            [
             0,
             "#8e0152"
            ],
            [
             0.1,
             "#c51b7d"
            ],
            [
             0.2,
             "#de77ae"
            ],
            [
             0.3,
             "#f1b6da"
            ],
            [
             0.4,
             "#fde0ef"
            ],
            [
             0.5,
             "#f7f7f7"
            ],
            [
             0.6,
             "#e6f5d0"
            ],
            [
             0.7,
             "#b8e186"
            ],
            [
             0.8,
             "#7fbc41"
            ],
            [
             0.9,
             "#4d9221"
            ],
            [
             1,
             "#276419"
            ]
           ],
           "sequential": [
            [
             0,
             "#0d0887"
            ],
            [
             0.1111111111111111,
             "#46039f"
            ],
            [
             0.2222222222222222,
             "#7201a8"
            ],
            [
             0.3333333333333333,
             "#9c179e"
            ],
            [
             0.4444444444444444,
             "#bd3786"
            ],
            [
             0.5555555555555556,
             "#d8576b"
            ],
            [
             0.6666666666666666,
             "#ed7953"
            ],
            [
             0.7777777777777778,
             "#fb9f3a"
            ],
            [
             0.8888888888888888,
             "#fdca26"
            ],
            [
             1,
             "#f0f921"
            ]
           ],
           "sequentialminus": [
            [
             0,
             "#0d0887"
            ],
            [
             0.1111111111111111,
             "#46039f"
            ],
            [
             0.2222222222222222,
             "#7201a8"
            ],
            [
             0.3333333333333333,
             "#9c179e"
            ],
            [
             0.4444444444444444,
             "#bd3786"
            ],
            [
             0.5555555555555556,
             "#d8576b"
            ],
            [
             0.6666666666666666,
             "#ed7953"
            ],
            [
             0.7777777777777778,
             "#fb9f3a"
            ],
            [
             0.8888888888888888,
             "#fdca26"
            ],
            [
             1,
             "#f0f921"
            ]
           ]
          },
          "colorway": [
           "#636efa",
           "#EF553B",
           "#00cc96",
           "#ab63fa",
           "#FFA15A",
           "#19d3f3",
           "#FF6692",
           "#B6E880",
           "#FF97FF",
           "#FECB52"
          ],
          "font": {
           "color": "#2a3f5f"
          },
          "geo": {
           "bgcolor": "white",
           "lakecolor": "white",
           "landcolor": "#E5ECF6",
           "showlakes": true,
           "showland": true,
           "subunitcolor": "white"
          },
          "hoverlabel": {
           "align": "left"
          },
          "hovermode": "closest",
          "mapbox": {
           "style": "light"
          },
          "paper_bgcolor": "white",
          "plot_bgcolor": "#E5ECF6",
          "polar": {
           "angularaxis": {
            "gridcolor": "white",
            "linecolor": "white",
            "ticks": ""
           },
           "bgcolor": "#E5ECF6",
           "radialaxis": {
            "gridcolor": "white",
            "linecolor": "white",
            "ticks": ""
           }
          },
          "scene": {
           "xaxis": {
            "backgroundcolor": "#E5ECF6",
            "gridcolor": "white",
            "gridwidth": 2,
            "linecolor": "white",
            "showbackground": true,
            "ticks": "",
            "zerolinecolor": "white"
           },
           "yaxis": {
            "backgroundcolor": "#E5ECF6",
            "gridcolor": "white",
            "gridwidth": 2,
            "linecolor": "white",
            "showbackground": true,
            "ticks": "",
            "zerolinecolor": "white"
           },
           "zaxis": {
            "backgroundcolor": "#E5ECF6",
            "gridcolor": "white",
            "gridwidth": 2,
            "linecolor": "white",
            "showbackground": true,
            "ticks": "",
            "zerolinecolor": "white"
           }
          },
          "shapedefaults": {
           "line": {
            "color": "#2a3f5f"
           }
          },
          "ternary": {
           "aaxis": {
            "gridcolor": "white",
            "linecolor": "white",
            "ticks": ""
           },
           "baxis": {
            "gridcolor": "white",
            "linecolor": "white",
            "ticks": ""
           },
           "bgcolor": "#E5ECF6",
           "caxis": {
            "gridcolor": "white",
            "linecolor": "white",
            "ticks": ""
           }
          },
          "title": {
           "x": 0.05
          },
          "xaxis": {
           "automargin": true,
           "gridcolor": "white",
           "linecolor": "white",
           "ticks": "",
           "title": {
            "standoff": 15
           },
           "zerolinecolor": "white",
           "zerolinewidth": 2
          },
          "yaxis": {
           "automargin": true,
           "gridcolor": "white",
           "linecolor": "white",
           "ticks": "",
           "title": {
            "standoff": 15
           },
           "zerolinecolor": "white",
           "zerolinewidth": 2
          }
         }
        },
        "title": {
         "text": "Residual Sugar vs Quality"
        },
        "xaxis": {
         "anchor": "y",
         "domain": [
          0,
          1
         ],
         "title": {
          "text": "Residual Sugar"
         }
        },
        "yaxis": {
         "anchor": "x",
         "domain": [
          0,
          1
         ],
         "title": {
          "text": "Average Quality"
         }
        }
       }
      }
     },
     "metadata": {},
     "output_type": "display_data"
    }
   ],
   "source": [
    "sugar_quality = wines.groupby('residual sugar', as_index=False)['quality'].mean()\n",
    "\n",
    "fig3 = px.bar(sugar_quality, x='residual sugar', y='quality',\n",
    "              title='Residual Sugar vs Quality',\n",
    "              labels={'residual sugar': 'Residual Sugar', 'quality': 'Average Quality'},\n",
    "              color_discrete_sequence=['#c8a2c8'])\n",
    "\n",
    "fig3.update_layout(\n",
    "    plot_bgcolor='white',\n",
    "    paper_bgcolor='white'\n",
    ")\n",
    "\n",
    "fig3.show()"
   ]
  },
  {
   "cell_type": "markdown",
   "metadata": {},
   "source": [
    "Do sugar levels impact quality? I would argue no, most of figure 3's data hovers around the quality level of 5... perhaps this is an error on my part."
   ]
  },
  {
   "cell_type": "code",
   "execution_count": 72,
   "metadata": {},
   "outputs": [
    {
     "data": {
      "application/vnd.plotly.v1+json": {
       "config": {
        "plotlyServerURL": "https://plot.ly"
       },
       "data": [
        {
         "customdata": {
          "bdata": "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",
          "dtype": "f8",
          "shape": "416, 1"
         },
         "hovertemplate": "Alcohol=%{x}<br>Residual Sugar=%{y}<br>Quality=%{marker.color}<br>pH=%{customdata[0]}<extra></extra>",
         "legendgroup": "",
         "marker": {
          "color": {
           "bdata": "BQUFBQUFBwUFBQUGBQUEBQUFBgUFBQUFBQUEBQUGBgUFBgUEBgUFBQUGBQUFBgYFBQUFBQUFBQUFBgYFBQUEBQUFBQUFBgUFBQUFBQUGBQUFBQUFBQcFBQUGBQUFBQYGBgcFBgUFBQQEBgUFBgUFBQUFBgYFBQUGBgUGBgYFBQYFBQUFCAUFBQYGBQUFBQUHBQYFBQUFBgcGBgUGBwcGBgUFBQUFBQYFBgUFBQYFBQcFBQYFBQYGBgUFBQUFBAUFBQUFBgUFBQUFBQUFBQUGBAUFBQUFBQUFBQUFBQUFBQUGBgUFBQUFBQUFBgUGBQUHBwcGBQUFBgUFBQYFBQYGBQUFBgUFBgUGBgcGBAYGBgUFBQUGBQUFBQYGBgYGBQUGBQcHBwYGBQgGBgUGBQUGBgYFBgYHBwYGBQUFBQYGBgYFBgYGBQcFBQUEBQUGBgUIBgYGBgUFBQUFBQUFBQUFBgYGBgYFBgYFBQYFBAYGBQUFBQYFBQUFBQUFBQUFBQUGBgYFBgYGBgUGBQYFBwUHBQUFBgYGBQUFBQUFBQYFBgU=",
           "dtype": "i1"
          },
          "coloraxis": "coloraxis",
          "size": {
           "bdata": "BQUFBQUFBwUFBQUGBQUEBQUFBgUFBQUFBQUEBQUGBgUFBgUEBgUFBQUGBQUFBgYFBQUFBQUFBQUFBgYFBQUEBQUFBQUFBgUFBQUFBQUGBQUFBQUFBQcFBQUGBQUFBQYGBgcFBgUFBQQEBgUFBgUFBQUFBgYFBQUGBgUGBgYFBQYFBQUFCAUFBQYGBQUFBQUHBQYFBQUFBgcGBgUGBwcGBgUFBQUFBQYFBgUFBQYFBQcFBQYFBQYGBgUFBQUFBAUFBQUFBgUFBQUFBQUFBQUGBAUFBQUFBQUFBQUFBQUFBQUGBgUFBQUFBQUFBgUGBQUHBwcGBQUFBgUFBQYFBQYGBQUFBgUFBgUGBgcGBAYGBgUFBQUGBQUFBQYGBgYGBQUGBQcHBwYGBQgGBgUGBQUGBgYFBgYHBwYGBQUFBQYGBgYFBgYGBQcFBQUEBQUGBgUIBgYGBgUFBQUFBQUFBQUFBgYGBgYFBgYFBQYFBAYGBQUFBQYFBQUFBQUFBQUFBQUGBgYFBgYGBgUGBQYFBwUHBQUFBgYGBQUFBQUFBQYFBgU=",
           "dtype": "i1"
          },
          "sizemode": "area",
          "sizeref": 0.02,
          "symbol": "circle"
         },
         "mode": "markers",
         "name": "",
         "orientation": "v",
         "showlegend": false,
         "type": "scatter",
         "x": {
          "bdata": "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",
          "dtype": "f8"
         },
         "xaxis": "x",
         "y": {
          "bdata": "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",
          "dtype": "f8"
         },
         "yaxis": "y"
        }
       ],
       "layout": {
        "coloraxis": {
         "colorbar": {
          "title": {
           "text": "Quality"
          }
         },
         "colorscale": [
          [
           0,
           "rgb(252,251,253)"
          ],
          [
           0.125,
           "rgb(239,237,245)"
          ],
          [
           0.25,
           "rgb(218,218,235)"
          ],
          [
           0.375,
           "rgb(188,189,220)"
          ],
          [
           0.5,
           "rgb(158,154,200)"
          ],
          [
           0.625,
           "rgb(128,125,186)"
          ],
          [
           0.75,
           "rgb(106,81,163)"
          ],
          [
           0.875,
           "rgb(84,39,143)"
          ],
          [
           1,
           "rgb(63,0,125)"
          ]
         ]
        },
        "legend": {
         "itemsizing": "constant",
         "tracegroupgap": 0
        },
        "template": {
         "data": {
          "bar": [
           {
            "error_x": {
             "color": "#2a3f5f"
            },
            "error_y": {
             "color": "#2a3f5f"
            },
            "marker": {
             "line": {
              "color": "#E5ECF6",
              "width": 0.5
             },
             "pattern": {
              "fillmode": "overlay",
              "size": 10,
              "solidity": 0.2
             }
            },
            "type": "bar"
           }
          ],
          "barpolar": [
           {
            "marker": {
             "line": {
              "color": "#E5ECF6",
              "width": 0.5
             },
             "pattern": {
              "fillmode": "overlay",
              "size": 10,
              "solidity": 0.2
             }
            },
            "type": "barpolar"
           }
          ],
          "carpet": [
           {
            "aaxis": {
             "endlinecolor": "#2a3f5f",
             "gridcolor": "white",
             "linecolor": "white",
             "minorgridcolor": "white",
             "startlinecolor": "#2a3f5f"
            },
            "baxis": {
             "endlinecolor": "#2a3f5f",
             "gridcolor": "white",
             "linecolor": "white",
             "minorgridcolor": "white",
             "startlinecolor": "#2a3f5f"
            },
            "type": "carpet"
           }
          ],
          "choropleth": [
           {
            "colorbar": {
             "outlinewidth": 0,
             "ticks": ""
            },
            "type": "choropleth"
           }
          ],
          "contour": [
           {
            "colorbar": {
             "outlinewidth": 0,
             "ticks": ""
            },
            "colorscale": [
             [
              0,
              "#0d0887"
             ],
             [
              0.1111111111111111,
              "#46039f"
             ],
             [
              0.2222222222222222,
              "#7201a8"
             ],
             [
              0.3333333333333333,
              "#9c179e"
             ],
             [
              0.4444444444444444,
              "#bd3786"
             ],
             [
              0.5555555555555556,
              "#d8576b"
             ],
             [
              0.6666666666666666,
              "#ed7953"
             ],
             [
              0.7777777777777778,
              "#fb9f3a"
             ],
             [
              0.8888888888888888,
              "#fdca26"
             ],
             [
              1,
              "#f0f921"
             ]
            ],
            "type": "contour"
           }
          ],
          "contourcarpet": [
           {
            "colorbar": {
             "outlinewidth": 0,
             "ticks": ""
            },
            "type": "contourcarpet"
           }
          ],
          "heatmap": [
           {
            "colorbar": {
             "outlinewidth": 0,
             "ticks": ""
            },
            "colorscale": [
             [
              0,
              "#0d0887"
             ],
             [
              0.1111111111111111,
              "#46039f"
             ],
             [
              0.2222222222222222,
              "#7201a8"
             ],
             [
              0.3333333333333333,
              "#9c179e"
             ],
             [
              0.4444444444444444,
              "#bd3786"
             ],
             [
              0.5555555555555556,
              "#d8576b"
             ],
             [
              0.6666666666666666,
              "#ed7953"
             ],
             [
              0.7777777777777778,
              "#fb9f3a"
             ],
             [
              0.8888888888888888,
              "#fdca26"
             ],
             [
              1,
              "#f0f921"
             ]
            ],
            "type": "heatmap"
           }
          ],
          "histogram": [
           {
            "marker": {
             "pattern": {
              "fillmode": "overlay",
              "size": 10,
              "solidity": 0.2
             }
            },
            "type": "histogram"
           }
          ],
          "histogram2d": [
           {
            "colorbar": {
             "outlinewidth": 0,
             "ticks": ""
            },
            "colorscale": [
             [
              0,
              "#0d0887"
             ],
             [
              0.1111111111111111,
              "#46039f"
             ],
             [
              0.2222222222222222,
              "#7201a8"
             ],
             [
              0.3333333333333333,
              "#9c179e"
             ],
             [
              0.4444444444444444,
              "#bd3786"
             ],
             [
              0.5555555555555556,
              "#d8576b"
             ],
             [
              0.6666666666666666,
              "#ed7953"
             ],
             [
              0.7777777777777778,
              "#fb9f3a"
             ],
             [
              0.8888888888888888,
              "#fdca26"
             ],
             [
              1,
              "#f0f921"
             ]
            ],
            "type": "histogram2d"
           }
          ],
          "histogram2dcontour": [
           {
            "colorbar": {
             "outlinewidth": 0,
             "ticks": ""
            },
            "colorscale": [
             [
              0,
              "#0d0887"
             ],
             [
              0.1111111111111111,
              "#46039f"
             ],
             [
              0.2222222222222222,
              "#7201a8"
             ],
             [
              0.3333333333333333,
              "#9c179e"
             ],
             [
              0.4444444444444444,
              "#bd3786"
             ],
             [
              0.5555555555555556,
              "#d8576b"
             ],
             [
              0.6666666666666666,
              "#ed7953"
             ],
             [
              0.7777777777777778,
              "#fb9f3a"
             ],
             [
              0.8888888888888888,
              "#fdca26"
             ],
             [
              1,
              "#f0f921"
             ]
            ],
            "type": "histogram2dcontour"
           }
          ],
          "mesh3d": [
           {
            "colorbar": {
             "outlinewidth": 0,
             "ticks": ""
            },
            "type": "mesh3d"
           }
          ],
          "parcoords": [
           {
            "line": {
             "colorbar": {
              "outlinewidth": 0,
              "ticks": ""
             }
            },
            "type": "parcoords"
           }
          ],
          "pie": [
           {
            "automargin": true,
            "type": "pie"
           }
          ],
          "scatter": [
           {
            "fillpattern": {
             "fillmode": "overlay",
             "size": 10,
             "solidity": 0.2
            },
            "type": "scatter"
           }
          ],
          "scatter3d": [
           {
            "line": {
             "colorbar": {
              "outlinewidth": 0,
              "ticks": ""
             }
            },
            "marker": {
             "colorbar": {
              "outlinewidth": 0,
              "ticks": ""
             }
            },
            "type": "scatter3d"
           }
          ],
          "scattercarpet": [
           {
            "marker": {
             "colorbar": {
              "outlinewidth": 0,
              "ticks": ""
             }
            },
            "type": "scattercarpet"
           }
          ],
          "scattergeo": [
           {
            "marker": {
             "colorbar": {
              "outlinewidth": 0,
              "ticks": ""
             }
            },
            "type": "scattergeo"
           }
          ],
          "scattergl": [
           {
            "marker": {
             "colorbar": {
              "outlinewidth": 0,
              "ticks": ""
             }
            },
            "type": "scattergl"
           }
          ],
          "scattermap": [
           {
            "marker": {
             "colorbar": {
              "outlinewidth": 0,
              "ticks": ""
             }
            },
            "type": "scattermap"
           }
          ],
          "scattermapbox": [
           {
            "marker": {
             "colorbar": {
              "outlinewidth": 0,
              "ticks": ""
             }
            },
            "type": "scattermapbox"
           }
          ],
          "scatterpolar": [
           {
            "marker": {
             "colorbar": {
              "outlinewidth": 0,
              "ticks": ""
             }
            },
            "type": "scatterpolar"
           }
          ],
          "scatterpolargl": [
           {
            "marker": {
             "colorbar": {
              "outlinewidth": 0,
              "ticks": ""
             }
            },
            "type": "scatterpolargl"
           }
          ],
          "scatterternary": [
           {
            "marker": {
             "colorbar": {
              "outlinewidth": 0,
              "ticks": ""
             }
            },
            "type": "scatterternary"
           }
          ],
          "surface": [
           {
            "colorbar": {
             "outlinewidth": 0,
             "ticks": ""
            },
            "colorscale": [
             [
              0,
              "#0d0887"
             ],
             [
              0.1111111111111111,
              "#46039f"
             ],
             [
              0.2222222222222222,
              "#7201a8"
             ],
             [
              0.3333333333333333,
              "#9c179e"
             ],
             [
              0.4444444444444444,
              "#bd3786"
             ],
             [
              0.5555555555555556,
              "#d8576b"
             ],
             [
              0.6666666666666666,
              "#ed7953"
             ],
             [
              0.7777777777777778,
              "#fb9f3a"
             ],
             [
              0.8888888888888888,
              "#fdca26"
             ],
             [
              1,
              "#f0f921"
             ]
            ],
            "type": "surface"
           }
          ],
          "table": [
           {
            "cells": {
             "fill": {
              "color": "#EBF0F8"
             },
             "line": {
              "color": "white"
             }
            },
            "header": {
             "fill": {
              "color": "#C8D4E3"
             },
             "line": {
              "color": "white"
             }
            },
            "type": "table"
           }
          ]
         },
         "layout": {
          "annotationdefaults": {
           "arrowcolor": "#2a3f5f",
           "arrowhead": 0,
           "arrowwidth": 1
          },
          "autotypenumbers": "strict",
          "coloraxis": {
           "colorbar": {
            "outlinewidth": 0,
            "ticks": ""
           }
          },
          "colorscale": {
           "diverging": [
            [
             0,
             "#8e0152"
            ],
            [
             0.1,
             "#c51b7d"
            ],
            [
             0.2,
             "#de77ae"
            ],
            [
             0.3,
             "#f1b6da"
            ],
            [
             0.4,
             "#fde0ef"
            ],
            [
             0.5,
             "#f7f7f7"
            ],
            [
             0.6,
             "#e6f5d0"
            ],
            [
             0.7,
             "#b8e186"
            ],
            [
             0.8,
             "#7fbc41"
            ],
            [
             0.9,
             "#4d9221"
            ],
            [
             1,
             "#276419"
            ]
           ],
           "sequential": [
            [
             0,
             "#0d0887"
            ],
            [
             0.1111111111111111,
             "#46039f"
            ],
            [
             0.2222222222222222,
             "#7201a8"
            ],
            [
             0.3333333333333333,
             "#9c179e"
            ],
            [
             0.4444444444444444,
             "#bd3786"
            ],
            [
             0.5555555555555556,
             "#d8576b"
            ],
            [
             0.6666666666666666,
             "#ed7953"
            ],
            [
             0.7777777777777778,
             "#fb9f3a"
            ],
            [
             0.8888888888888888,
             "#fdca26"
            ],
            [
             1,
             "#f0f921"
            ]
           ],
           "sequentialminus": [
            [
             0,
             "#0d0887"
            ],
            [
             0.1111111111111111,
             "#46039f"
            ],
            [
             0.2222222222222222,
             "#7201a8"
            ],
            [
             0.3333333333333333,
             "#9c179e"
            ],
            [
             0.4444444444444444,
             "#bd3786"
            ],
            [
             0.5555555555555556,
             "#d8576b"
            ],
            [
             0.6666666666666666,
             "#ed7953"
            ],
            [
             0.7777777777777778,
             "#fb9f3a"
            ],
            [
             0.8888888888888888,
             "#fdca26"
            ],
            [
             1,
             "#f0f921"
            ]
           ]
          },
          "colorway": [
           "#636efa",
           "#EF553B",
           "#00cc96",
           "#ab63fa",
           "#FFA15A",
           "#19d3f3",
           "#FF6692",
           "#B6E880",
           "#FF97FF",
           "#FECB52"
          ],
          "font": {
           "color": "#2a3f5f"
          },
          "geo": {
           "bgcolor": "white",
           "lakecolor": "white",
           "landcolor": "#E5ECF6",
           "showlakes": true,
           "showland": true,
           "subunitcolor": "white"
          },
          "hoverlabel": {
           "align": "left"
          },
          "hovermode": "closest",
          "mapbox": {
           "style": "light"
          },
          "paper_bgcolor": "white",
          "plot_bgcolor": "#E5ECF6",
          "polar": {
           "angularaxis": {
            "gridcolor": "white",
            "linecolor": "white",
            "ticks": ""
           },
           "bgcolor": "#E5ECF6",
           "radialaxis": {
            "gridcolor": "white",
            "linecolor": "white",
            "ticks": ""
           }
          },
          "scene": {
           "xaxis": {
            "backgroundcolor": "#E5ECF6",
            "gridcolor": "white",
            "gridwidth": 2,
            "linecolor": "white",
            "showbackground": true,
            "ticks": "",
            "zerolinecolor": "white"
           },
           "yaxis": {
            "backgroundcolor": "#E5ECF6",
            "gridcolor": "white",
            "gridwidth": 2,
            "linecolor": "white",
            "showbackground": true,
            "ticks": "",
            "zerolinecolor": "white"
           },
           "zaxis": {
            "backgroundcolor": "#E5ECF6",
            "gridcolor": "white",
            "gridwidth": 2,
            "linecolor": "white",
            "showbackground": true,
            "ticks": "",
            "zerolinecolor": "white"
           }
          },
          "shapedefaults": {
           "line": {
            "color": "#2a3f5f"
           }
          },
          "ternary": {
           "aaxis": {
            "gridcolor": "white",
            "linecolor": "white",
            "ticks": ""
           },
           "baxis": {
            "gridcolor": "white",
            "linecolor": "white",
            "ticks": ""
           },
           "bgcolor": "#E5ECF6",
           "caxis": {
            "gridcolor": "white",
            "linecolor": "white",
            "ticks": ""
           }
          },
          "title": {
           "x": 0.05
          },
          "xaxis": {
           "automargin": true,
           "gridcolor": "white",
           "linecolor": "white",
           "ticks": "",
           "title": {
            "standoff": 15
           },
           "zerolinecolor": "white",
           "zerolinewidth": 2
          },
          "yaxis": {
           "automargin": true,
           "gridcolor": "white",
           "linecolor": "white",
           "ticks": "",
           "title": {
            "standoff": 15
           },
           "zerolinecolor": "white",
           "zerolinewidth": 2
          }
         }
        },
        "title": {
         "text": "Alcohol & Residual Sugar vs Quality (Bubble Chart)"
        },
        "xaxis": {
         "anchor": "y",
         "domain": [
          0,
          1
         ],
         "title": {
          "text": "Alcohol"
         }
        },
        "yaxis": {
         "anchor": "x",
         "domain": [
          0,
          1
         ],
         "title": {
          "text": "Residual Sugar"
         }
        }
       }
      }
     },
     "metadata": {},
     "output_type": "display_data"
    }
   ],
   "source": [
    "fig4 = px.scatter(wines, x='alcohol', y='residual sugar', \n",
    "                 size='quality', color='quality',\n",
    "                 hover_data=['pH'],\n",
    "                 title='Alcohol & Residual Sugar vs Quality (Bubble Chart)',\n",
    "                 labels={'alcohol': 'Alcohol', 'residual sugar': 'Residual Sugar', 'quality': 'Quality'}, \n",
    "                 color_continuous_scale='Purples')\n",
    "fig4.show()"
   ]
  },
  {
   "cell_type": "markdown",
   "metadata": {},
   "source": [
    "Figure 4 demonstrates quality of wines by their gradient colour. This graph may provide clearer context to figure 3 which we can see from the above graph that residual sugar has some impact on the quality of the wine, notably, wines that appear to have more than 5.5% of sugars are not as high quality. There is not comparison to make against the alcohol levels, as this is widely spread, you could suggest wines that have less alcohol are not as good quality, and are more likely to have high amounts of sugar in."
   ]
  },
  {
   "cell_type": "code",
   "execution_count": null,
   "metadata": {},
   "outputs": [
    {
     "data": {
      "application/vnd.plotly.v1+json": {
       "config": {
        "plotlyServerURL": "https://plot.ly"
       },
       "data": [
        {
         "alignmentgroup": "True",
         "hovertemplate": "quality=%{x}<br>pH=%{y}<extra></extra>",
         "legendgroup": "5",
         "marker": {
          "color": "rgb(252,251,253)"
         },
         "name": "5",
         "notched": false,
         "offsetgroup": "5",
         "orientation": "v",
         "showlegend": true,
         "type": "box",
         "x": {
          "bdata": "BQUFBQUFBQUFBQUFBQUFBQUFBQUFBQUFBQUFBQUFBQUFBQUFBQUFBQUFBQUFBQUFBQUFBQUFBQUFBQUFBQUFBQUFBQUFBQUFBQUFBQUFBQUFBQUFBQUFBQUFBQUFBQUFBQUFBQUFBQUFBQUFBQUFBQUFBQUFBQUFBQUFBQUFBQUFBQUFBQUFBQUFBQUFBQUFBQUFBQUFBQUFBQUFBQUFBQUFBQUFBQUFBQUFBQUFBQUFBQUFBQUFBQUFBQUFBQUFBQUFBQUFBQUFBQUFBQUFBQUFBQUFBQUFBQUFBQUFBQUFBQUFBQUFBQUFBQUFBQUFBQUFBQUFBQUFBQUFBQUFBQUFBQUFBQ==",
          "dtype": "i1"
         },
         "x0": " ",
         "xaxis": "x",
         "y": {
          "bdata": "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",
          "dtype": "f8"
         },
         "y0": " ",
         "yaxis": "y"
        },
        {
         "alignmentgroup": "True",
         "hovertemplate": "quality=%{x}<br>pH=%{y}<extra></extra>",
         "legendgroup": "7",
         "marker": {
          "color": "rgb(239,237,245)"
         },
         "name": "7",
         "notched": false,
         "offsetgroup": "7",
         "orientation": "v",
         "showlegend": true,
         "type": "box",
         "x": {
          "bdata": "BwcHBwcHBwcHBwcHBwcHBwcHBwc=",
          "dtype": "i1"
         },
         "x0": " ",
         "xaxis": "x",
         "y": {
          "bdata": "ZmZmZmZmCkCPwvUoXI8MQFK4HoXrUQxAPQrXo3A9CkCPwvUoXI8KQFyPwvUoXAlAXI/C9ShcCUBmZmZmZmYKQHsUrkfhegxAFK5H4XoUCkAUrkfhehQKQMP1KFyPwgtAhetRuB6FC0AUrkfhehQIQBSuR+F6FAhApHA9CtejCkCuR+F6FK4LQHE9CtejcA1AUrgehetRDEBSuB6F61EMQA==",
          "dtype": "f8"
         },
         "y0": " ",
         "yaxis": "y"
        },
        {
         "alignmentgroup": "True",
         "hovertemplate": "quality=%{x}<br>pH=%{y}<extra></extra>",
         "legendgroup": "6",
         "marker": {
          "color": "rgb(218,218,235)"
         },
         "name": "6",
         "notched": false,
         "offsetgroup": "6",
         "orientation": "v",
         "showlegend": true,
         "type": "box",
         "x": {
          "bdata": "BgYGBgYGBgYGBgYGBgYGBgYGBgYGBgYGBgYGBgYGBgYGBgYGBgYGBgYGBgYGBgYGBgYGBgYGBgYGBgYGBgYGBgYGBgYGBgYGBgYGBgYGBgYGBgYGBgYGBgYGBgYGBgYGBgYGBgYGBgYGBgYGBgYGBgYGBgYGBgYG",
          "dtype": "i1"
         },
         "x0": " ",
         "xaxis": "x",
         "y": {
          "bdata": "mpmZmZmZC0Bcj8L1KFwJQIXrUbgehQtAcT0K16NwB0BxPQrXo3AHQM3MzMzMzA5A9ihcj8L1CkCPwvUoXI8IQLgehetRuApAcT0K16NwDUBxPQrXo3ANQLgehetRuAxAKVyPwvUoDEDNzMzMzMwKQPYoXI/C9QpAUrgehetRCED2KFyPwvUKQKRwPQrXowhA4XoUrkfhCkDhehSuR+EKQClcj8L1KApAj8L1KFyPCkBmZmZmZmYKQGZmZmZmZgpAPQrXo3A9CkDD9Shcj8IJQEjhehSuRwlAAAAAAAAACkDNzMzMzMwIQArXo3A9CgtAFK5H4XoUCkAzMzMzMzMJQNejcD0K1wtAhetRuB6FC0DXo3A9CtcLQHE9CtejcAlAcT0K16NwCUAfhetRuB4LQPYoXI/C9QhAhetRuB6FCUD2KFyPwvUIQFyPwvUoXAlAj8L1KFyPCkD2KFyPwvUGQEjhehSuRwlApHA9CtejCEBmZmZmZmYMQGZmZmZmZgxApHA9CtejCkDXo3A9CtcLQNejcD0K1wlASOF6FK5HDUDD9Shcj8IJQMP1KFyPwglAcT0K16NwC0A9CtejcD0MQHE9CtejcAtAZmZmZmZmCkBmZmZmZmYKQMP1KFyPwgtAmpmZmZmZC0AfhetRuB4LQB+F61G4HgtAuB6F61G4CkAfhetRuB4HQB+F61G4HgdA9ihcj8L1CkAK16NwPQoJQArXo3A9CglAMzMzMzMzC0Bcj8L1KFwLQFyPwvUoXAtAXI/C9ShcCUDsUbgehesLQK5H4XoUrglAuB6F61G4CkBI4XoUrkcLQClcj8L1KApArkfhehSuC0C4HoXrUbgMQK5H4XoUrgtArkfhehSuC0DD9Shcj8IJQK5H4XoUrglAMzMzMzMzCUCuR+F6FK4JQFK4HoXrUQpA16NwPQrXCUAUrkfhehQKQKRwPQrXowpAj8L1KFyPCkAK16NwPQoLQOxRuB6F6wlA7FG4HoXrCUAUrkfhehQKQDMzMzMzMwtAMzMzMzMzC0AUrkfhehQKQBSuR+F6FApAMzMzMzMzB0BSuB6F61EKQFK4HoXrUQpAzczMzMzMDEAAAAAAAAAKQClcj8L1KApArkfhehSuDUAUrkfhehQKQHE9CtejcAlAcT0K16NwCUCPwvUoXI8KQEjhehSuRwlAj8L1KFyPCkBI4XoUrkcJQGZmZmZmZgpASOF6FK5HC0CkcD0K16MKQD0K16NwPQxAPQrXo3A9DEAfhetRuB4LQClcj8L1KApA",
          "dtype": "f8"
         },
         "y0": " ",
         "yaxis": "y"
        },
        {
         "alignmentgroup": "True",
         "hovertemplate": "quality=%{x}<br>pH=%{y}<extra></extra>",
         "legendgroup": "4",
         "marker": {
          "color": "rgb(188,189,220)"
         },
         "name": "4",
         "notched": false,
         "offsetgroup": "4",
         "orientation": "v",
         "showlegend": true,
         "type": "box",
         "x": {
          "bdata": "BAQEBAQEBAQEBAQ=",
          "dtype": "i1"
         },
         "x0": " ",
         "xaxis": "x",
         "y": {
          "bdata": "MzMzMzMzD0BI4XoUrkcJQAAAAAAAAA5A7FG4HoXrBUDNzMzMzMwKQM3MzMzMzAxAcT0K16NwC0CPwvUoXI8KQJqZmZmZmQlAZmZmZmZmCkBSuB6F61EKQA==",
          "dtype": "f8"
         },
         "y0": " ",
         "yaxis": "y"
        },
        {
         "alignmentgroup": "True",
         "hovertemplate": "quality=%{x}<br>pH=%{y}<extra></extra>",
         "legendgroup": "8",
         "marker": {
          "color": "rgb(158,154,200)"
         },
         "name": "8",
         "notched": false,
         "offsetgroup": "8",
         "orientation": "v",
         "showlegend": true,
         "type": "box",
         "x": {
          "bdata": "CAgI",
          "dtype": "i1"
         },
         "x0": " ",
         "xaxis": "x",
         "y": {
          "bdata": "exSuR+F6DEDXo3A9CtcHQAAAAAAAAAxA",
          "dtype": "f8"
         },
         "y0": " ",
         "yaxis": "y"
        }
       ],
       "layout": {
        "boxmode": "overlay",
        "font": {
         "size": 14
        },
        "legend": {
         "title": {
          "text": "quality"
         },
         "tracegroupgap": 0
        },
        "paper_bgcolor": "white",
        "plot_bgcolor": "white",
        "template": {
         "data": {
          "bar": [
           {
            "error_x": {
             "color": "#2a3f5f"
            },
            "error_y": {
             "color": "#2a3f5f"
            },
            "marker": {
             "line": {
              "color": "#E5ECF6",
              "width": 0.5
             },
             "pattern": {
              "fillmode": "overlay",
              "size": 10,
              "solidity": 0.2
             }
            },
            "type": "bar"
           }
          ],
          "barpolar": [
           {
            "marker": {
             "line": {
              "color": "#E5ECF6",
              "width": 0.5
             },
             "pattern": {
              "fillmode": "overlay",
              "size": 10,
              "solidity": 0.2
             }
            },
            "type": "barpolar"
           }
          ],
          "carpet": [
           {
            "aaxis": {
             "endlinecolor": "#2a3f5f",
             "gridcolor": "white",
             "linecolor": "white",
             "minorgridcolor": "white",
             "startlinecolor": "#2a3f5f"
            },
            "baxis": {
             "endlinecolor": "#2a3f5f",
             "gridcolor": "white",
             "linecolor": "white",
             "minorgridcolor": "white",
             "startlinecolor": "#2a3f5f"
            },
            "type": "carpet"
           }
          ],
          "choropleth": [
           {
            "colorbar": {
             "outlinewidth": 0,
             "ticks": ""
            },
            "type": "choropleth"
           }
          ],
          "contour": [
           {
            "colorbar": {
             "outlinewidth": 0,
             "ticks": ""
            },
            "colorscale": [
             [
              0,
              "#0d0887"
             ],
             [
              0.1111111111111111,
              "#46039f"
             ],
             [
              0.2222222222222222,
              "#7201a8"
             ],
             [
              0.3333333333333333,
              "#9c179e"
             ],
             [
              0.4444444444444444,
              "#bd3786"
             ],
             [
              0.5555555555555556,
              "#d8576b"
             ],
             [
              0.6666666666666666,
              "#ed7953"
             ],
             [
              0.7777777777777778,
              "#fb9f3a"
             ],
             [
              0.8888888888888888,
              "#fdca26"
             ],
             [
              1,
              "#f0f921"
             ]
            ],
            "type": "contour"
           }
          ],
          "contourcarpet": [
           {
            "colorbar": {
             "outlinewidth": 0,
             "ticks": ""
            },
            "type": "contourcarpet"
           }
          ],
          "heatmap": [
           {
            "colorbar": {
             "outlinewidth": 0,
             "ticks": ""
            },
            "colorscale": [
             [
              0,
              "#0d0887"
             ],
             [
              0.1111111111111111,
              "#46039f"
             ],
             [
              0.2222222222222222,
              "#7201a8"
             ],
             [
              0.3333333333333333,
              "#9c179e"
             ],
             [
              0.4444444444444444,
              "#bd3786"
             ],
             [
              0.5555555555555556,
              "#d8576b"
             ],
             [
              0.6666666666666666,
              "#ed7953"
             ],
             [
              0.7777777777777778,
              "#fb9f3a"
             ],
             [
              0.8888888888888888,
              "#fdca26"
             ],
             [
              1,
              "#f0f921"
             ]
            ],
            "type": "heatmap"
           }
          ],
          "histogram": [
           {
            "marker": {
             "pattern": {
              "fillmode": "overlay",
              "size": 10,
              "solidity": 0.2
             }
            },
            "type": "histogram"
           }
          ],
          "histogram2d": [
           {
            "colorbar": {
             "outlinewidth": 0,
             "ticks": ""
            },
            "colorscale": [
             [
              0,
              "#0d0887"
             ],
             [
              0.1111111111111111,
              "#46039f"
             ],
             [
              0.2222222222222222,
              "#7201a8"
             ],
             [
              0.3333333333333333,
              "#9c179e"
             ],
             [
              0.4444444444444444,
              "#bd3786"
             ],
             [
              0.5555555555555556,
              "#d8576b"
             ],
             [
              0.6666666666666666,
              "#ed7953"
             ],
             [
              0.7777777777777778,
              "#fb9f3a"
             ],
             [
              0.8888888888888888,
              "#fdca26"
             ],
             [
              1,
              "#f0f921"
             ]
            ],
            "type": "histogram2d"
           }
          ],
          "histogram2dcontour": [
           {
            "colorbar": {
             "outlinewidth": 0,
             "ticks": ""
            },
            "colorscale": [
             [
              0,
              "#0d0887"
             ],
             [
              0.1111111111111111,
              "#46039f"
             ],
             [
              0.2222222222222222,
              "#7201a8"
             ],
             [
              0.3333333333333333,
              "#9c179e"
             ],
             [
              0.4444444444444444,
              "#bd3786"
             ],
             [
              0.5555555555555556,
              "#d8576b"
             ],
             [
              0.6666666666666666,
              "#ed7953"
             ],
             [
              0.7777777777777778,
              "#fb9f3a"
             ],
             [
              0.8888888888888888,
              "#fdca26"
             ],
             [
              1,
              "#f0f921"
             ]
            ],
            "type": "histogram2dcontour"
           }
          ],
          "mesh3d": [
           {
            "colorbar": {
             "outlinewidth": 0,
             "ticks": ""
            },
            "type": "mesh3d"
           }
          ],
          "parcoords": [
           {
            "line": {
             "colorbar": {
              "outlinewidth": 0,
              "ticks": ""
             }
            },
            "type": "parcoords"
           }
          ],
          "pie": [
           {
            "automargin": true,
            "type": "pie"
           }
          ],
          "scatter": [
           {
            "fillpattern": {
             "fillmode": "overlay",
             "size": 10,
             "solidity": 0.2
            },
            "type": "scatter"
           }
          ],
          "scatter3d": [
           {
            "line": {
             "colorbar": {
              "outlinewidth": 0,
              "ticks": ""
             }
            },
            "marker": {
             "colorbar": {
              "outlinewidth": 0,
              "ticks": ""
             }
            },
            "type": "scatter3d"
           }
          ],
          "scattercarpet": [
           {
            "marker": {
             "colorbar": {
              "outlinewidth": 0,
              "ticks": ""
             }
            },
            "type": "scattercarpet"
           }
          ],
          "scattergeo": [
           {
            "marker": {
             "colorbar": {
              "outlinewidth": 0,
              "ticks": ""
             }
            },
            "type": "scattergeo"
           }
          ],
          "scattergl": [
           {
            "marker": {
             "colorbar": {
              "outlinewidth": 0,
              "ticks": ""
             }
            },
            "type": "scattergl"
           }
          ],
          "scattermap": [
           {
            "marker": {
             "colorbar": {
              "outlinewidth": 0,
              "ticks": ""
             }
            },
            "type": "scattermap"
           }
          ],
          "scattermapbox": [
           {
            "marker": {
             "colorbar": {
              "outlinewidth": 0,
              "ticks": ""
             }
            },
            "type": "scattermapbox"
           }
          ],
          "scatterpolar": [
           {
            "marker": {
             "colorbar": {
              "outlinewidth": 0,
              "ticks": ""
             }
            },
            "type": "scatterpolar"
           }
          ],
          "scatterpolargl": [
           {
            "marker": {
             "colorbar": {
              "outlinewidth": 0,
              "ticks": ""
             }
            },
            "type": "scatterpolargl"
           }
          ],
          "scatterternary": [
           {
            "marker": {
             "colorbar": {
              "outlinewidth": 0,
              "ticks": ""
             }
            },
            "type": "scatterternary"
           }
          ],
          "surface": [
           {
            "colorbar": {
             "outlinewidth": 0,
             "ticks": ""
            },
            "colorscale": [
             [
              0,
              "#0d0887"
             ],
             [
              0.1111111111111111,
              "#46039f"
             ],
             [
              0.2222222222222222,
              "#7201a8"
             ],
             [
              0.3333333333333333,
              "#9c179e"
             ],
             [
              0.4444444444444444,
              "#bd3786"
             ],
             [
              0.5555555555555556,
              "#d8576b"
             ],
             [
              0.6666666666666666,
              "#ed7953"
             ],
             [
              0.7777777777777778,
              "#fb9f3a"
             ],
             [
              0.8888888888888888,
              "#fdca26"
             ],
             [
              1,
              "#f0f921"
             ]
            ],
            "type": "surface"
           }
          ],
          "table": [
           {
            "cells": {
             "fill": {
              "color": "#EBF0F8"
             },
             "line": {
              "color": "white"
             }
            },
            "header": {
             "fill": {
              "color": "#C8D4E3"
             },
             "line": {
              "color": "white"
             }
            },
            "type": "table"
           }
          ]
         },
         "layout": {
          "annotationdefaults": {
           "arrowcolor": "#2a3f5f",
           "arrowhead": 0,
           "arrowwidth": 1
          },
          "autotypenumbers": "strict",
          "coloraxis": {
           "colorbar": {
            "outlinewidth": 0,
            "ticks": ""
           }
          },
          "colorscale": {
           "diverging": [
            [
             0,
             "#8e0152"
            ],
            [
             0.1,
             "#c51b7d"
            ],
            [
             0.2,
             "#de77ae"
            ],
            [
             0.3,
             "#f1b6da"
            ],
            [
             0.4,
             "#fde0ef"
            ],
            [
             0.5,
             "#f7f7f7"
            ],
            [
             0.6,
             "#e6f5d0"
            ],
            [
             0.7,
             "#b8e186"
            ],
            [
             0.8,
             "#7fbc41"
            ],
            [
             0.9,
             "#4d9221"
            ],
            [
             1,
             "#276419"
            ]
           ],
           "sequential": [
            [
             0,
             "#0d0887"
            ],
            [
             0.1111111111111111,
             "#46039f"
            ],
            [
             0.2222222222222222,
             "#7201a8"
            ],
            [
             0.3333333333333333,
             "#9c179e"
            ],
            [
             0.4444444444444444,
             "#bd3786"
            ],
            [
             0.5555555555555556,
             "#d8576b"
            ],
            [
             0.6666666666666666,
             "#ed7953"
            ],
            [
             0.7777777777777778,
             "#fb9f3a"
            ],
            [
             0.8888888888888888,
             "#fdca26"
            ],
            [
             1,
             "#f0f921"
            ]
           ],
           "sequentialminus": [
            [
             0,
             "#0d0887"
            ],
            [
             0.1111111111111111,
             "#46039f"
            ],
            [
             0.2222222222222222,
             "#7201a8"
            ],
            [
             0.3333333333333333,
             "#9c179e"
            ],
            [
             0.4444444444444444,
             "#bd3786"
            ],
            [
             0.5555555555555556,
             "#d8576b"
            ],
            [
             0.6666666666666666,
             "#ed7953"
            ],
            [
             0.7777777777777778,
             "#fb9f3a"
            ],
            [
             0.8888888888888888,
             "#fdca26"
            ],
            [
             1,
             "#f0f921"
            ]
           ]
          },
          "colorway": [
           "#636efa",
           "#EF553B",
           "#00cc96",
           "#ab63fa",
           "#FFA15A",
           "#19d3f3",
           "#FF6692",
           "#B6E880",
           "#FF97FF",
           "#FECB52"
          ],
          "font": {
           "color": "#2a3f5f"
          },
          "geo": {
           "bgcolor": "white",
           "lakecolor": "white",
           "landcolor": "#E5ECF6",
           "showlakes": true,
           "showland": true,
           "subunitcolor": "white"
          },
          "hoverlabel": {
           "align": "left"
          },
          "hovermode": "closest",
          "mapbox": {
           "style": "light"
          },
          "paper_bgcolor": "white",
          "plot_bgcolor": "#E5ECF6",
          "polar": {
           "angularaxis": {
            "gridcolor": "white",
            "linecolor": "white",
            "ticks": ""
           },
           "bgcolor": "#E5ECF6",
           "radialaxis": {
            "gridcolor": "white",
            "linecolor": "white",
            "ticks": ""
           }
          },
          "scene": {
           "xaxis": {
            "backgroundcolor": "#E5ECF6",
            "gridcolor": "white",
            "gridwidth": 2,
            "linecolor": "white",
            "showbackground": true,
            "ticks": "",
            "zerolinecolor": "white"
           },
           "yaxis": {
            "backgroundcolor": "#E5ECF6",
            "gridcolor": "white",
            "gridwidth": 2,
            "linecolor": "white",
            "showbackground": true,
            "ticks": "",
            "zerolinecolor": "white"
           },
           "zaxis": {
            "backgroundcolor": "#E5ECF6",
            "gridcolor": "white",
            "gridwidth": 2,
            "linecolor": "white",
            "showbackground": true,
            "ticks": "",
            "zerolinecolor": "white"
           }
          },
          "shapedefaults": {
           "line": {
            "color": "#2a3f5f"
           }
          },
          "ternary": {
           "aaxis": {
            "gridcolor": "white",
            "linecolor": "white",
            "ticks": ""
           },
           "baxis": {
            "gridcolor": "white",
            "linecolor": "white",
            "ticks": ""
           },
           "bgcolor": "#E5ECF6",
           "caxis": {
            "gridcolor": "white",
            "linecolor": "white",
            "ticks": ""
           }
          },
          "title": {
           "x": 0.05
          },
          "xaxis": {
           "automargin": true,
           "gridcolor": "white",
           "linecolor": "white",
           "ticks": "",
           "title": {
            "standoff": 15
           },
           "zerolinecolor": "white",
           "zerolinewidth": 2
          },
          "yaxis": {
           "automargin": true,
           "gridcolor": "white",
           "linecolor": "white",
           "ticks": "",
           "title": {
            "standoff": 15
           },
           "zerolinecolor": "white",
           "zerolinewidth": 2
          }
         }
        },
        "title": {
         "text": "Wine Acidity (pH) by Quality (Box Plot)"
        },
        "xaxis": {
         "anchor": "y",
         "categoryarray": [
          5,
          7,
          6,
          4,
          8
         ],
         "categoryorder": "array",
         "domain": [
          0,
          1
         ],
         "title": {
          "text": "quality"
         }
        },
        "yaxis": {
         "anchor": "x",
         "domain": [
          0,
          1
         ],
         "title": {
          "text": "pH"
         }
        }
       }
      }
     },
     "metadata": {},
     "output_type": "display_data"
    }
   ],
   "source": [
    "fig5 = px.box(\n",
    "    wines, \n",
    "    x='quality', \n",
    "    y='pH', \n",
    "    title='Wine Acidity (pH) by Quality (Box Plot)', \n",
    "    color='quality',\n",
    "    color_discrete_sequence=px.colors.sequential.Purples\n",
    ")\n",
    "\n",
    "fig5.update_layout(\n",
    "    plot_bgcolor='white',\n",
    "    paper_bgcolor='white',\n",
    "    font=dict(size=14),\n",
    ")\n",
    "\n",
    "fig5.show()"
   ]
  },
  {
   "cell_type": "markdown",
   "metadata": {},
   "source": [
    "pH levels in wine can affect how the wine ages and its taste. This graph simply suggests that pH levels are very precise to the quality and taste of wine, from our infographic we know that a balanced pH level is incredibly neccessary for wine, encourgaing the taste and its freshness over time. "
   ]
  },
  {
   "cell_type": "markdown",
   "metadata": {},
   "source": [
    "-----------------------------------------------------------------------------------------"
   ]
  },
  {
   "cell_type": "markdown",
   "metadata": {},
   "source": [
    "We are no going to move on to, what I would like to call 'wine-snobiness'. Again I am not much of a wine person, but my boyfriend is, he likes a dry and oak note red. Okay but what does that mean? Well dry wines typically has little to no residual sugar left after fermentation. From our data, these wines below have the least amount of sugars."
   ]
  },
  {
   "cell_type": "code",
   "execution_count": null,
   "metadata": {},
   "outputs": [
    {
     "name": "stdout",
     "output_type": "stream",
     "text": [
      "Showing top 3 high-quality dry wines (Quality ≥ 8, lowest residual sugar first):\n"
     ]
    },
    {
     "data": {
      "text/html": [
       "<div>\n",
       "<style scoped>\n",
       "    .dataframe tbody tr th:only-of-type {\n",
       "        vertical-align: middle;\n",
       "    }\n",
       "\n",
       "    .dataframe tbody tr th {\n",
       "        vertical-align: top;\n",
       "    }\n",
       "\n",
       "    .dataframe thead th {\n",
       "        text-align: right;\n",
       "    }\n",
       "</style>\n",
       "<table border=\"1\" class=\"dataframe\">\n",
       "  <thead>\n",
       "    <tr style=\"text-align: right;\">\n",
       "      <th></th>\n",
       "      <th>fixed acidity</th>\n",
       "      <th>citric acid</th>\n",
       "      <th>residual sugar</th>\n",
       "      <th>total sulfur dioxide</th>\n",
       "      <th>density</th>\n",
       "      <th>pH</th>\n",
       "      <th>alcohol</th>\n",
       "      <th>quality</th>\n",
       "    </tr>\n",
       "  </thead>\n",
       "  <tbody>\n",
       "    <tr>\n",
       "      <th>390</th>\n",
       "      <td>5.6</td>\n",
       "      <td>0.05</td>\n",
       "      <td>1.4</td>\n",
       "      <td>88.0</td>\n",
       "      <td>0.99240</td>\n",
       "      <td>3.56</td>\n",
       "      <td>12.9</td>\n",
       "      <td>8</td>\n",
       "    </tr>\n",
       "    <tr>\n",
       "      <th>1269</th>\n",
       "      <td>5.5</td>\n",
       "      <td>0.03</td>\n",
       "      <td>1.8</td>\n",
       "      <td>87.0</td>\n",
       "      <td>0.99080</td>\n",
       "      <td>3.50</td>\n",
       "      <td>14.0</td>\n",
       "      <td>8</td>\n",
       "    </tr>\n",
       "    <tr>\n",
       "      <th>1090</th>\n",
       "      <td>10.0</td>\n",
       "      <td>0.54</td>\n",
       "      <td>1.9</td>\n",
       "      <td>74.0</td>\n",
       "      <td>0.99451</td>\n",
       "      <td>2.98</td>\n",
       "      <td>11.8</td>\n",
       "      <td>8</td>\n",
       "    </tr>\n",
       "  </tbody>\n",
       "</table>\n",
       "</div>"
      ],
      "text/plain": [
       "      fixed acidity  citric acid  residual sugar  total sulfur dioxide  \\\n",
       "390             5.6         0.05             1.4                  88.0   \n",
       "1269            5.5         0.03             1.8                  87.0   \n",
       "1090           10.0         0.54             1.9                  74.0   \n",
       "\n",
       "      density    pH  alcohol  quality  \n",
       "390   0.99240  3.56     12.9        8  \n",
       "1269  0.99080  3.50     14.0        8  \n",
       "1090  0.99451  2.98     11.8        8  "
      ]
     },
     "execution_count": 85,
     "metadata": {},
     "output_type": "execute_result"
    }
   ],
   "source": [
    "top_dry_wines = wines[wines['quality'] >= 8].sort_values(by='residual sugar').head(5)\n",
    "\n",
    "explanation = f\"Showing top {len(top_dry_wines)} high-quality dry wines (Quality ≥ 8, lowest residual sugar first):\"\n",
    "print(explanation)\n",
    "top_dry_wines"
   ]
  },
  {
   "cell_type": "markdown",
   "metadata": {},
   "source": [
    "Some people don't like a dense wine, meaning a wine that is full-bodied, rich in flavour, high in tannins, alcohol, or sugar and has a thicker mouthfeel — like it \"coats your tongue\". "
   ]
  },
  {
   "cell_type": "code",
   "execution_count": 115,
   "metadata": {},
   "outputs": [
    {
     "name": "stdout",
     "output_type": "stream",
     "text": [
      "Showing top 5 high-density wines (Density > 0.99):\n"
     ]
    },
    {
     "data": {
      "text/html": [
       "<div>\n",
       "<style scoped>\n",
       "    .dataframe tbody tr th:only-of-type {\n",
       "        vertical-align: middle;\n",
       "    }\n",
       "\n",
       "    .dataframe tbody tr th {\n",
       "        vertical-align: top;\n",
       "    }\n",
       "\n",
       "    .dataframe thead th {\n",
       "        text-align: right;\n",
       "    }\n",
       "</style>\n",
       "<table border=\"1\" class=\"dataframe\">\n",
       "  <thead>\n",
       "    <tr style=\"text-align: right;\">\n",
       "      <th></th>\n",
       "      <th>fixed acidity</th>\n",
       "      <th>citric acid</th>\n",
       "      <th>residual sugar</th>\n",
       "      <th>total sulfur dioxide</th>\n",
       "      <th>density</th>\n",
       "      <th>pH</th>\n",
       "      <th>alcohol</th>\n",
       "      <th>quality</th>\n",
       "    </tr>\n",
       "  </thead>\n",
       "  <tbody>\n",
       "    <tr>\n",
       "      <th>1018</th>\n",
       "      <td>8.0</td>\n",
       "      <td>0.37</td>\n",
       "      <td>0.9</td>\n",
       "      <td>109.0</td>\n",
       "      <td>0.99007</td>\n",
       "      <td>2.89</td>\n",
       "      <td>12.7</td>\n",
       "      <td>6</td>\n",
       "    </tr>\n",
       "    <tr>\n",
       "      <th>1017</th>\n",
       "      <td>8.0</td>\n",
       "      <td>0.37</td>\n",
       "      <td>0.9</td>\n",
       "      <td>109.0</td>\n",
       "      <td>0.99007</td>\n",
       "      <td>2.89</td>\n",
       "      <td>12.7</td>\n",
       "      <td>6</td>\n",
       "    </tr>\n",
       "    <tr>\n",
       "      <th>1114</th>\n",
       "      <td>5.0</td>\n",
       "      <td>0.50</td>\n",
       "      <td>4.3</td>\n",
       "      <td>80.0</td>\n",
       "      <td>0.99020</td>\n",
       "      <td>3.49</td>\n",
       "      <td>13.6</td>\n",
       "      <td>6</td>\n",
       "    </tr>\n",
       "    <tr>\n",
       "      <th>837</th>\n",
       "      <td>6.7</td>\n",
       "      <td>0.28</td>\n",
       "      <td>2.4</td>\n",
       "      <td>100.0</td>\n",
       "      <td>0.99064</td>\n",
       "      <td>3.26</td>\n",
       "      <td>11.7</td>\n",
       "      <td>7</td>\n",
       "    </tr>\n",
       "    <tr>\n",
       "      <th>836</th>\n",
       "      <td>6.7</td>\n",
       "      <td>0.28</td>\n",
       "      <td>2.4</td>\n",
       "      <td>100.0</td>\n",
       "      <td>0.99064</td>\n",
       "      <td>3.26</td>\n",
       "      <td>11.7</td>\n",
       "      <td>7</td>\n",
       "    </tr>\n",
       "  </tbody>\n",
       "</table>\n",
       "</div>"
      ],
      "text/plain": [
       "      fixed acidity  citric acid  residual sugar  total sulfur dioxide  \\\n",
       "1018            8.0         0.37             0.9                 109.0   \n",
       "1017            8.0         0.37             0.9                 109.0   \n",
       "1114            5.0         0.50             4.3                  80.0   \n",
       "837             6.7         0.28             2.4                 100.0   \n",
       "836             6.7         0.28             2.4                 100.0   \n",
       "\n",
       "      density    pH  alcohol  quality  \n",
       "1018  0.99007  2.89     12.7        6  \n",
       "1017  0.99007  2.89     12.7        6  \n",
       "1114  0.99020  3.49     13.6        6  \n",
       "837   0.99064  3.26     11.7        7  \n",
       "836   0.99064  3.26     11.7        7  "
      ]
     },
     "execution_count": 115,
     "metadata": {},
     "output_type": "execute_result"
    }
   ],
   "source": [
    "top_dense = wines [wines['density'] > 0.99].sort_values(by='density').head(5)\n",
    "explanation = f\"Showing top {len(top_dense)} high-density wines (Density > 0.99):\"\n",
    "print(explanation)\n",
    "top_dense"
   ]
  }
 ],
 "metadata": {
  "kernelspec": {
   "display_name": "Python 3",
   "language": "python",
   "name": "python3"
  },
  "language_info": {
   "codemirror_mode": {
    "name": "ipython",
    "version": 3
   },
   "file_extension": ".py",
   "mimetype": "text/x-python",
   "name": "python",
   "nbconvert_exporter": "python",
   "pygments_lexer": "ipython3",
   "version": "3.13.3"
  }
 },
 "nbformat": 4,
 "nbformat_minor": 2
}
